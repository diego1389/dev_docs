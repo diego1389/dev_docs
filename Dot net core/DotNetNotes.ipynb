{
 "cells": [
  {
   "cell_type": "markdown",
   "metadata": {},
   "source": [
    "1. .Net framework main components:\n",
    "    1. .Net class library\n",
    "    2. .Net framework.\n",
    "    3. Languague runtime\n",
    "    4. Application Domain\n",
    "    5. Profiling\n"
   ]
  },
  {
   "cell_type": "markdown",
   "metadata": {},
   "source": [
    "2. JIT: Just In  Time compiler convert intermediate code into native code (byte code) easily. "
   ]
  },
  {
   "cell_type": "markdown",
   "metadata": {},
   "source": [
    "3. CLS: Common Language Specification to put into place to ensure that the application developer is capable of inter-language operations if required (for example communicate C# code with VB.Net code)."
   ]
  },
  {
   "cell_type": "markdown",
   "metadata": {},
   "source": [
    "4. CLR: Common Language runtime, it provides the foundation for many applications to run on. If a user writes an application in C#, it gets compiled and converted to intermediate code (MSIL) and after that the executable is created. CLR takes up the code and works on it with respect to the following aspects:\n",
    "    1. Memory management.\n",
    "    2. Security protocols.\n",
    "    3. Libraries for loading.\n",
    "    4. Thread management.\n"
   ]
  },
  {
   "cell_type": "markdown",
   "metadata": {},
   "source": [
    "5. Managed vs unmanaged code:\n",
    "\n",
    "| Managed      | Unmanaged |\n",
    "| ----------- | ----------- |\n",
    "| Manage by CLR      | Not managed       |\n",
    "| Garbage collection is used to manage memory   | Runtime environment takes care of management      |\n",
    "| .Net framework is neccesary for the execution  | Not dependant on the .Net fw to run    |\n",
    "\n",
    "**Managed code:** \n",
    "As we have seen in the beginning, the code which is developed using the Common Language Runtime (CLR) of the .NET framework is known as Managed Code. In other words, it is the code that gets executed directly in C#. The runtime environment for managed code provides a variety of services to the programmer. The services provided are exception handling, garbage collection, type checking, etc. The above-mentioned services are provided to the programmer automatically. Apart from the above-mentioned services the runtime environment also provides memory allocation, object disposal, object creation, etc.\n",
    "\n",
    "**Unmanaged code:** Unsafecode depends on the computer architecture as it aims for the processor architecture. The programmer tells the compiler that the management of the code will be done by him/her when uses the keyword \"unsafe\". Issues like memory leaks can happen.\n"
   ]
  },
  {
   "cell_type": "markdown",
   "metadata": {},
   "source": [
    "6. How managed code is executed in the .Net fw:\n",
    "    1. Choosing a compiler that can execute the code written by a user.\n",
    "    2. Conversion of the code into intermediate language (IL) using a compiler.\n",
    "    3. IL gets pushed to CLR, which converts it into native code using JIT.\n",
    "    4. Native code is now executed using the .Net runtime."
   ]
  },
  {
   "cell_type": "markdown",
   "metadata": {},
   "source": [
    "7. Difference between object and class:\n",
    "    | Object      | Class |\n",
    "    | ----------- | ----------- |\n",
    "    | An instance of a class      | A template for creating an object       |\n",
    "    |A class becomes an object after instantiation   | Basic scaffolding of an object        | \n",
    "    |Used to access properties from a class   | Description of methods and properties      | \n"
   ]
  },
  {
   "cell_type": "markdown",
   "metadata": {},
   "source": [
    "8. System.stringbuilder vs system.string:\n",
    "    | Stringbuilder      | String |\n",
    "    | ----------- | ----------- |\n",
    "    | Mutable (modifying StringBuilder does not result in the creation of a new instance in memory)    | Inmutable       |\n",
    "    | Supports using append   | Cannot use the append keyword        |\n"
   ]
  },
  {
   "cell_type": "markdown",
   "metadata": {},
   "source": [
    "9. LINQ (Language Integrated Query) provides users with a lot of extra features when working .NET fw, for example it allows users to manipulate data without any dependency on its source. "
   ]
  },
  {
   "cell_type": "markdown",
   "metadata": {},
   "source": [
    "10. Assembly: simple collection of all entities that are required to build an application and later deploy the same using .Net framework (**logical units**). It can be consideres as a collection of executables and DLL files. \n",
    "Components:\n",
    "    1. **Resource:** A collection of related files\n",
    "    2. **MSIL:** Intermediate Language Code\n",
    "    3. **Metadata:** Binary data of a program.\n",
    "    4. **Manifest:** A collection of information about the assembly."
   ]
  },
  {
   "cell_type": "markdown",
   "metadata": {},
   "source": [
    "11. **Caching:** when data has to be temporarily stored in the memory so that an application can access it quickly rather than looking for it. This speeds up the execution to an exponential pace and helps massively in terms of performance.\n",
    "    - Three types of caching:\n",
    "        - Data caching.\n",
    "        - Page caching.\n",
    "        - Fragment caching. "
   ]
  },
  {
   "cell_type": "markdown",
   "metadata": {},
   "source": [
    "12. Function vs stored proc:\n",
    "    | Function      | Stored Prc |\n",
    "    | ----------- | ----------- |\n",
    "    | Can only return one value      | Can return any number of values (or none)       |\n",
    "    | No support for exception handling using try-catch blocks   | Supports usage of try-catch blocks for exception handling        |\n",
    "    | Must have at least one input parameter | Don't need parameters and can be input or output       |\n",
    "    | You cannot call a SP inside a function | You can call a function inside a SP   |\n",
    "\n"
   ]
  },
  {
   "cell_type": "markdown",
   "metadata": {},
   "source": [
    "13. Types of constructors in C#:\n",
    "    1. Copy constructor: a parametizad constructor that contains a parameter of the same class type:\n",
    "    ```c#\n",
    "    class Name{\n",
    "        //Parameterized constructor\n",
    "        public Name(parameters){\n",
    "            //Code\n",
    "        }\n",
    "        //Copy constructor\n",
    "        public Name(Name name){//Instance of class\n",
    "            //Code\n",
    "        }\n",
    "    }\n",
    "    ```\n",
    "    2. Default  constructor: accept no input arguments, sets all numeric fields to zero and all string and object fields to null within a class.\n",
    "    3. Parametized constructor.\n",
    "    4. Private constructor: to prevent creating instances of a class when there are no instance fields or methos (for example the Math class). You can also use a static class.\n",
    "    5. Static constructor: to initialize any static data or to perform a particular action that needs to be performed only once. "
   ]
  },
  {
   "cell_type": "markdown",
   "metadata": {},
   "source": [
    "14. Advantages of using a session:\n",
    "    - It is used to store user data accross the span of an application.\n",
    "    - Easy to implement and store any sort of object in the program.\n",
    "    - Individual entities of user data can be stored separately if required.\n",
    "    - The session is secure, and objects get stored on the runtime server. "
   ]
  },
  {
   "cell_type": "markdown",
   "metadata": {},
   "source": [
    "15. Boxing vs unboxing:\n",
    "    - **Boxing:** process to convert a value type into a reference type directly.\n",
    "    - **Unboxing:** converts the reference type into a value type.\n",
    "    ```c#\n",
    "    //boxing:\n",
    "    int i = 123;\n",
    "    object o = i;\n",
    "\n",
    "    //unboxing:\n",
    "    o = 123;\n",
    "    i = (int)o;\n",
    "    ```"
   ]
  },
  {
   "cell_type": "markdown",
   "metadata": {},
   "source": [
    "16. Manifest in .Net fw:\n",
    "    - Store metadata of the assembly. For example:\n",
    "        - Assembly version info.\n",
    "        - Security identification.\n",
    "        - Scope checking of the assembly.\n",
    "        - Reference validating of classes. "
   ]
  },
  {
   "cell_type": "markdown",
   "metadata": {},
   "source": [
    "17. CAS: Code Access Security. Vital in the prevention of unauthorized access to programs and resources in the runtime. It can provide limited access to the code to perform only certain operations rather than providing all at a given point in time. "
   ]
  },
  {
   "cell_type": "markdown",
   "metadata": {},
   "source": [
    "18. Garbage collection: Process to mantain various aspects of memory to prevent memory leaks during program execution. The garbage collector is used to allocate and de-allocate memory as and when required by an application. Checks on the references of variables and objects used by the application. If an object is no longer required by the application the memory is freed up. "
   ]
  },
  {
   "cell_type": "markdown",
   "metadata": {},
   "source": [
    "19. Global assembly cache (GAC). Is part of the CLR, used to store the assemblies that are shared across all of the applications. A user can make use of the Gacutil application to add any file into GAC easily. "
   ]
  },
  {
   "cell_type": "markdown",
   "metadata": {},
   "source": [
    "20. MVC,  model view controller is an architectural model that is used to build applications in .NET. It serves as the foundation for the creation of applications. \n",
    "    Model to store and pull back data from db.\n",
    "    View to display the contents of an application\n",
    "    Controller to handle user interaction."
   ]
  },
  {
   "cell_type": "markdown",
   "metadata": {},
   "source": [
    "21. Types of memories supported:\n",
    "    1. Stack: used for memory allocation.\n",
    "    2. Heap: for dynamic memory allocation. "
   ]
  },
  {
   "cell_type": "markdown",
   "metadata": {},
   "source": [
    "22. Delegation: It provides a way to encapsulate the reference of a method in an object. A delegate object can be easily passed to a program after this, and then a method, which was referenced earlier, can be called. Custom events can also be created in the class using a delegate.\n",
    "A delegate is a type that represents references to methods with a particular parameter list and return type. The method can be either static or an instance method. This flexibility means you can programmatically change method calls, or plug new code into existing classes.\n",
    "This ability to refer to a method as a parameter makes delegates ideal for defining callback methods.\n",
    "```c#\n",
    "    public class HelloWorld\n",
    "    {\n",
    "        public delegate void Del(string message);\n",
    "        // Create a method for a delegate.\n",
    "        public static void DelegateMethod(string message)\n",
    "        {\n",
    "            Console.WriteLine(message);\n",
    "        }\n",
    "\n",
    "        public static void Main(string[] args)\n",
    "        {\n",
    "            // Instantiate the delegate.\n",
    "            Del handler = DelegateMethod;\n",
    "            // Call the delegate.\n",
    "            handler(\"Hello World\");\n",
    "        }\n",
    "    }\n",
    "```\n"
   ]
  },
  {
   "cell_type": "markdown",
   "metadata": {},
   "source": [
    "23. Abstract class vs Interface:\n",
    "    | Abstract class      | Interface |\n",
    "    | ----------- | ----------- |\n",
    "    | Provides the partial implementation of functionalities that is done by inhereting classes      | Used to declare behaviour of an implementing a class       |\n",
    "    | Used to declare properties, methods, events and fields as well   | Fields cannot be declared using interfaces        |\n",
    "    | Classes can inherit only one abstract class  | Classes can implement multiple interfaces      |"
   ]
  },
  {
   "cell_type": "markdown",
   "metadata": {},
   "source": [
    "24. How many elements can a tuple hold in .NET:\n",
    "    - A tuple can hold anywhere up to eight elements. If there are more each element gets defined into a separate tuple.\n",
    "    - Tuples can be used as parameters or return type specifiers:\n",
    "    ```c#\n",
    "    var person = Tuple.Create(1, \"Steve\", \"Jobs\");\n",
    "    DisplayTuple(person);\n",
    "\n",
    "    static void DisplayTuple(Tuple<int, string, string> person)\n",
    "    {\n",
    "        Console.WriteLine($\"Id = {person.Item1}\");\n",
    "        Console.WriteLine($\"First Name = {person.Item2}\");\n",
    "        Console.WriteLine($\"Last Name = {person.Item3}\");\n",
    "    }\n",
    "    /* Id = 1\n",
    "    First Name = Steve\n",
    "    Last Name = Jobs*/\n",
    "    ```\n"
   ]
  },
  {
   "cell_type": "markdown",
   "metadata": {},
   "source": [
    "## Dot NET Core:\n",
    "Provides an open-source, accessible and general-purpose to create and run applications onto different OS. The framework follows the object-oriented programming priciples that we can use C#, .NET, VB, and other programming laguages. It provides built-in tools such as packages, classes, libraries, APIs and other functionalities. We can create a diverse range of applications.\n"
   ]
  },
  {
   "cell_type": "markdown",
   "metadata": {},
   "source": [
    "25. Latest version of .NET Core: .Net 7"
   ]
  },
  {
   "cell_type": "markdown",
   "metadata": {},
   "source": [
    "26. .NET Core specific features:\n",
    "    - Cross-platform.\n",
    "    - Flexibility: include codes in the desired app or install them per requirements. You can use one single consisten API model for all .NET applications with the help of the same library on varios platforms. \n",
    "    - Open Source: you can use by downloading it from the Github library. You don't need to pay to purchase a license (MIT license).\n",
    "    - Command-line tools: You can efficienly execute applications at the command line.\n"
   ]
  },
  {
   "cell_type": "markdown",
   "metadata": {},
   "source": [
    "27. .NET Core uses:\n",
    "    - Developing and building web applications and services that run on diverse OS.\n",
    "    - Creating IoT appplications and mobile backends.\n",
    "    - Using develpment tools on any OS.\n",
    "    - For creating and deploying applications to the cloud or on-premises services.\n",
    "    - Flexibility, high performance and lightweight features to develop applications quickly."
   ]
  },
  {
   "cell_type": "markdown",
   "metadata": {},
   "source": [
    "28. .NET has three layers:\n",
    "    1. .Net runtime: runtime libraries that allow you to perform functions such as type safety, load assemblies, garbage collections, etc.\n",
    "    2. A collection of framework libraries: they offer utilities, primitive data types, etc.\n",
    "    3. A collection of SDK tools and compilers. It permits you to work with .NET Core SDK quickly. \n",
    "\n",
    "- This stack could be dividd into four components:\n",
    "    1. **CLI tools:** \n",
    "        - Tools for development and deployment.\n",
    "        - Build console applications and class libraries.\n",
    "    2. **Roslyn:**\n",
    "        - .Net compiler platform for C# and VB.\n",
    "        - Open-source language compiler and permits dynamic compilation.\n",
    "    3. **CoreFX:**\n",
    "        - Platform-neutral code that is shared across all platforms. Can be implemented as a single portable assembly. Is the foundational class libraries for .Net Core.\n",
    "    4. **CoreCLR:**\n",
    "        - JIT based Command Language Runtime.\n",
    "        - Allows your runtime implementation on cross-platform. "
   ]
  },
  {
   "cell_type": "markdown",
   "metadata": {},
   "source": [
    "29. .NET Core SDK vs .NET Core runtime:\n",
    "    - SDK builds applications, whereas .NET Core runtime runs the application. SDK is a collection of tools, libraries you need to develop appplications. Runtime is like a virtual machine consisting of runtime libraries and helps your run those applications. "
   ]
  },
  {
   "cell_type": "markdown",
   "metadata": {},
   "source": [
    "30. What is Kestrel? Kestrel is an event-driven, I/O based, open-source, cross platform and asynchronous server which hosts .NET applications. It is provides as a default server for .NET Core therefore, it is compatible with all the platforms and their versions which .NET Core supports.\n",
    "Edge-server: server which faces the internet and handles HTTP web requests from clients directly. \n",
    "    - It is light-weight and fast.\n",
    "    - Cross platform and supports all versions of .NET Core\n",
    "    - Supports HTTPS.\n",
    "    - Easy configuration. "
   ]
  },
  {
   "cell_type": "markdown",
   "metadata": {},
   "source": [
    "31. What do you know about .NET Core middleware:\n",
    "    - A layer, software or simple class through which all the requests and responses have to go through. The middleware is assembled of many delegates in an application pipeline. Each component/delegate in the pipeline of the middleware decides:\n",
    "        - To pass the request to the next component.\n",
    "        - Perform some processing on the request before or after passing it."
   ]
  },
  {
   "cell_type": "markdown",
   "metadata": {},
   "source": [
    "32. What are razor pages in .NET Core?\n",
    "    - Server-side framework which works on a paged-pased approach to render applications. They are stored as a physical .cshtml.\n",
    "    - They have HTML and C# code in a single file, without the need to mantain separate controllers, viewmodels, action methods, etc. "
   ]
  },
  {
   "cell_type": "markdown",
   "metadata": {},
   "source": [
    "33. .NET Core vs .NET framework:\n",
    "    | .NET Core      | .NET Framework |\n",
    "    | ----------- | ----------- |\n",
    "    | Completely open-source      | Few components are open-source       |\n",
    "    | Compatible with Linux, Windows and Mac OS   | Only for Windows        |\n",
    "    | Does not support desktop application development  | Supports web and desktop development      |\n",
    "    | Supports microservices development | Does not support microservices dev    |\n",
    "    | Lightweight for CLI | Heavy for CLI  |"
   ]
  },
  {
   "cell_type": "markdown",
   "metadata": {},
   "source": [
    "34. Docker in .NET Core: open platform for developing, shipping, and running applications. It allows you to quickly isolate your applications from the infrastructure to transmit software. You should leverage this feature for managing infrastructure and deploying codes fast. \n",
    "- Main functions:\n",
    "    1. Quick and constant delivery of applications.\n",
    "    2. Responsive deployment and scaling.\n",
    "    3. Efficiently run more workload on the same hardware.\n",
    "- You can use Docker client's CLI for managing images and containers.\n",
    "- You must adequately integrate Docker images, containers and registries while designing and containerising applications or microservices. \n",
    "- User Dockerfile for rebuilding images and distribute them with others. "
   ]
  },
  {
   "cell_type": "markdown",
   "metadata": {},
   "source": [
    "35. .NET Core CLI\n",
    "- .NET Core CLI is part of the .NET SDK and provides cross-platfor toolset to develop, create and run .NET Core applications.You can use with the command:\n",
    "\n",
    "    ```bash\n",
    "    dotnet [verb] [arguments]\n",
    "    ```\n",
    "- It provides four types of commands:\n",
    "    - Basic commands: all commands required to develop applications like: new, restore, build, run, ect.\n",
    "    - Project modification commands: To use existing packages or add packages for developing apps.\n",
    "    - Advanced commands: It gives various commands to perform additional functions such as deleting nuget. \n",
    "    - Tool management commands. You can use these commands to manage tools. "
   ]
  },
  {
   "cell_type": "markdown",
   "metadata": {},
   "source": [
    "36. Hosting Environment Management: a feature that permits you to work with multiple environments with no friction. You can use this feature through the available interface. Its executes depends on the environment variable and switch betwwen the configuration files during runtime. The variable is ASPNETCORE_ENVIRONMENT.\n",
    "    - If value Development - you are running the application in dev mode.\n",
    "    - If value Staging - you are running in staging mode."
   ]
  },
  {
   "cell_type": "markdown",
   "metadata": {},
   "source": [
    "37. Explain garbage collection, its benefits and its condition:\n",
    "    - A feature to manage memory allocation and release. .NET COre has Zero Garbage Collector to execute this callection. \n",
    "        - You don't need to put effort into releasing memory manually.\n",
    "        - Efficient object allocation on the heap.\n",
    "        - Ensure memory security by ensurings object's usage. \n",
    "        - You can reclaim objects that are no longer needed, free the memory and use it for other purposes. \n"
   ]
  },
  {
   "cell_type": "markdown",
   "metadata": {},
   "source": [
    "38. CST (Commmon Type System) in .NET Core.\n",
    "    - The System.Object is the base type that derives other types in the singly rooted object hierarchy. It is a collection of data types, and Runtime uses it to implement cross-language integration.\n",
    "    - Two main types:\n",
    "        - Value types: uses an object's actual value to represent any object. If you assign instance of value type to a variable, that variable is given a fresh copy of that value.\n",
    "        - Reference types: Reference to the object's value to represent the objects. You can say it follows the concept of pointers. It doesn't creaty any copy if you assign a reference type to a variable that further points to the original values. "
   ]
  },
  {
   "cell_type": "markdown",
   "metadata": {},
   "source": [
    "39. CoreRT: toolchain that performs compilation to translation. It compiles CIL byte code to machine code. It uses ahead-of-compiler RyuJIT for compilation. "
   ]
  },
  {
   "cell_type": "markdown",
   "metadata": {},
   "source": [
    "40. Startup class is critical (but moved to Program.cs in .NET 6). \n",
    "    - It describes the pipeline of the web applications.\n",
    "    - You can use individual startups for each environment.\n",
    "    - It helps to perform the registration of all required middleware components. "
   ]
  },
  {
   "cell_type": "markdown",
   "metadata": {},
   "source": [
    "41. State management:\n",
    "    - Since HTTP is a stateless protocol, different methods have been used to store and preserve the user data between request:\n",
    "        1. Cookies: HTTP cookies, server-side app code.\n",
    "        2. Session state: HTTP Cookies, server-side app code.\n",
    "        3. Temp Data: HTTP Cookies, Session state\n",
    "        4. Query strings: HTTP Query strings.\n",
    "        5. Hidden fields: HTTP Form fields.\n",
    "        6. HTTPContext items: Server-side app code.\n",
    "        7. Cache: Server-side app code. "
   ]
  },
  {
   "cell_type": "markdown",
   "metadata": {},
   "source": [
    "42. Error handling in .NET Core:\n",
    "    1. Developer exception page.\n",
    "    2. Exception Handler page.\n",
    "    3. Exception handle lambda.\n",
    "    4. UseStatusCodePages.\n",
    "- The best way is developer exception page as it provides detail information (stacks, query string parameters, headers, cookies) about unhandled request exceptions. "
   ]
  },
  {
   "cell_type": "markdown",
   "metadata": {},
   "source": [
    "43. Generic host in .NET Core:\n",
    "    - Previously present as web host but it was deprecated. When a new application is started we are required to take care of the below points: Dependency injection, COnfiguration, Logging, Service lifetime management. .Net generic host called hostbuilder helps us to manage all the above tasks since it is built on the original abstraction of these tools. \n"
   ]
  },
  {
   "cell_type": "markdown",
   "metadata": {},
   "source": [
    "44. Routing in .NET Core:\n",
    "    - A process through which the incoming requests are mapped to the corresponding controllers and actions.\n",
    "    - The .NET Core MVC has a routing middleware to perform this task. This middleware matches the incoming HTTP requests to the executable request-handling code. We can define the routing in the middleware pipeline in the Program.cs file:\n",
    "    - UseRouting: Adds route which matches the middleware pipeline.\n",
    "    - UseEndpoints: Adds end execution point to the middleware pipeline and runs the delegate of the endpoint. \n",
    "        ```c#\n",
    "        public void Configure(IApplicationBuilder app, IWebHostEnvironment env) \n",
    "        { \n",
    "            if (env.IsDevelopment()) \n",
    "            { \n",
    "                app.UseDeveloperExceptionPage(); \n",
    "            } \n",
    "            app.UseRouting(); \n",
    "            app.UseEndpoints(endpoints => \n",
    "            { \n",
    "                endpoints.MapGet(\"/\", async context => \n",
    "                { \n",
    "                    await context.Response.WriteAsync(\"Hello World!\"); \n",
    "                }); \n",
    "            }); \n",
    "        }\n",
    "        ```"
   ]
  },
  {
   "cell_type": "markdown",
   "metadata": {},
   "source": [
    "45. Dependency Injection in .NET Core:\n",
    "    - Makes application loosely coupled. It is a tecnique to introduce Inversion Control (IoC) between classes and their dependencies. The object mantains only that dependency which is required during that particular task. A dependency is an object on which another objects depend, by DI, the application becomes better testable, maintanable and reusable. \n",
    "    - Three steps:  \n",
    "        1. An interface or base class is present to provde an abstraction for dependency implementation.\n",
    "        2. Dependency is registered in a service container, a built-in container IServiceProvider is present in .NET Core.\n",
    "        3. Service is injected into the constructor of the class where the dependency is used. \n",
    "    - Advantages:\n",
    "        - Code is flexible, implementation can be changed without much overhead.\n",
    "        - Code becomes easy to test because of the use of interfaces.\n",
    "        - Code is loosely coupled, clean and easy to mantain. "
   ]
  },
  {
   "cell_type": "markdown",
   "metadata": {},
   "source": [
    "46. What role does IIS manager play for ASP.NET MVC?\n",
    "    - The application deployment process requires a windows server with an installed IIS manager. You need to use the IIS manager to perform deployment after the development of the applications. Without deployment you cant bring any application to the market. You can use Docker instead of IIS, which first deploys the docker package to any server machine and then implements the next deployment stage. "
   ]
  },
  {
   "cell_type": "markdown",
   "metadata": {},
   "source": [
    "47. What are the different return types used by controller action method in MVC:\n",
    "    - ViewResult: HTML and markup\n",
    "    - EmptyResult: No result\n",
    "    - RedirectResult: Redirection to a new URL\n",
    "    - JsonResult: returns a json object\n",
    "    - ContentResult: Represents text result\n",
    "    - FileStreamResult: represents a downloadable file"
   ]
  },
  {
   "cell_type": "markdown",
   "metadata": {},
   "source": [
    "48. What is the role of Action Filters?\n",
    "    - Execution of filtering logic after an action method is called. You can call these filters \"custom attributes\", which helps clarify declarations of pre-action or post-action behaviour to the controller's action methods. These attributes are derived from System.Attribute, which can be attached to classes, methods, fields or properties:\n",
    "    Filter types:\n",
    "        - OutputCache: caches output of a controller action for a specific period\n",
    "        - HandleError: handles errors raised when a controller action executes.\n",
    "        - Authorize: restrict access to a particular user or role."
   ]
  },
  {
   "cell_type": "markdown",
   "metadata": {},
   "source": [
    "49. OOP is a programming structure that uses self-contained entities called 'objects' instead of methods to achieve desired functionality."
   ]
  },
  {
   "cell_type": "markdown",
   "metadata": {},
   "source": [
    "50. Constants vs read-only variables: constant fields are created using the const keyword and their value remains the same throughout the program. Read-only fields are created using read-only keyword and their value can be changed. Constant is a compile time constant while read-only is a runtime constatn."
   ]
  },
  {
   "cell_type": "markdown",
   "metadata": {},
   "source": [
    "51. EXE vs DLL:\n",
    "    EXE is an executable file that works as an application and it runs individually as it contains an entry point. DLL is a dynamic link library which is supportive file to other applications and cannot run individually."
   ]
  },
  {
   "cell_type": "markdown",
   "metadata": {},
   "source": [
    "52. Stack vs heap: stack for static memory allocation (value type variables are stored here) and access is fast and simple to keep track. Heap is used for dynamic memory allocation to variables (reference variables are stored here) that happen at run time. Access it is complex and slower. "
   ]
  },
  {
   "cell_type": "markdown",
   "metadata": {},
   "source": [
    "53. DIfference between stack and queue: Stack are lifo (last in first out), queue are fifo (first in first out)."
   ]
  },
  {
   "cell_type": "markdown",
   "metadata": {},
   "source": [
    "54. Base class vs derived class: base class is a class whose members and functions can be inherited, the derived class inherits those members. "
   ]
  },
  {
   "cell_type": "markdown",
   "metadata": {},
   "source": [
    "55. Extension method is used to add new methods in the existing class without modifying the source code of the original type: Example:\n",
    "```c#\n",
    "namespace ExtensionMethods\n",
    "{\n",
    "    public static class MyExtensions\n",
    "    {\n",
    "        public static int WordCount(this string str)\n",
    "        {\n",
    "            return str.Split(new char[] { ' ', '.', '?' },\n",
    "                             StringSplitOptions.RemoveEmptyEntries).Length;\n",
    "        }\n",
    "    }\n",
    "}\n",
    "```\n",
    "- Use it:\n",
    "```c#\n",
    "using ExtensionMethods;\n",
    "\n",
    "string s = \"Hello Extension Methods\";\n",
    "int i = s.WordCount();\n",
    "```"
   ]
  },
  {
   "cell_type": "markdown",
   "metadata": {},
   "source": [
    "56. ref vs out parameters?\n",
    "    - ref: argument must be initialized passing to the method.\n",
    "    - out: needs not to be initialized."
   ]
  },
  {
   "cell_type": "markdown",
   "metadata": {},
   "source": [
    "57. Serialization? Process to convert the object into a stream of bytes to transport it through the network. For an object to be serialized it should implement ISerialize interface. "
   ]
  },
  {
   "cell_type": "markdown",
   "metadata": {},
   "source": [
    "58. Constants vs read-only? Constant variables are declared and initialized at compile time. Read-only are used to assign the value at run time."
   ]
  },
  {
   "cell_type": "markdown",
   "metadata": {},
   "source": [
    "59. value type vs reference type? Value type holds data value within its own memory space.\n",
    "    - reference type stores the address of the Object where the value is stored. \n"
   ]
  },
  {
   "cell_type": "markdown",
   "metadata": {},
   "source": [
    "60. Method overloading? Same name but unique signatures in the same classs (different parameters)."
   ]
  },
  {
   "cell_type": "markdown",
   "metadata": {},
   "source": [
    "61. Array vs ArrayList?\n",
    "    - Array: items of the same type. The size is fixed.\n",
    "    - ArrayList: same type but no fixed size."
   ]
  },
  {
   "cell_type": "markdown",
   "metadata": {},
   "source": [
    "62. Can private virtual method be overriden? No because cannot be accessed outside the class."
   ]
  },
  {
   "cell_type": "markdown",
   "metadata": {},
   "source": [
    "63. Protected internal accessibility modifier? Accessible within the same assembly and also from the classes that are derived from this parent class. "
   ]
  },
  {
   "cell_type": "markdown",
   "metadata": {},
   "source": [
    "64. System.Array.CopyTo() vs System.Array.Clone()? Clone creates a new array object containing all the elements in the original array and CopyTo() method copies all the elements of existing array into another existing array. Both perform shallow copy."
   ]
  },
  {
   "cell_type": "markdown",
   "metadata": {},
   "source": [
    "65. Sort in descending order? Sort() and then Reverse() methods."
   ]
  },
  {
   "cell_type": "markdown",
   "metadata": {},
   "source": [
    "66. Interface vs abstract class? Interface have all the methods having only declarations. Abstract classes can have also definition (implementation, concrete methods). In an interface all the methods are public. A class can implement multiple interfaces but only one abstract class."
   ]
  },
  {
   "cell_type": "markdown",
   "metadata": {},
   "source": [
    "67. Finalize() vs Dispose()? Dispose() is called when we want for an object to release any unmanaged resources. Finalize() is used for the same purpose but it doesn't ensure the GC of an object.\n"
   ]
  },
  {
   "cell_type": "markdown",
   "metadata": {},
   "source": [
    "68. Circular references? Two or more resources are interdependent on each other causing a lock condition and making them unusable."
   ]
  },
  {
   "cell_type": "markdown",
   "metadata": {},
   "source": [
    "69. Generics in C#? Used to make reusable code classses to decrease code redundancy, increase type safety and performance. Use System.Collections.Generic. It promotes the usage of parameterized types."
   ]
  },
  {
   "cell_type": "markdown",
   "metadata": {},
   "source": [
    "70. Object pool? Container having objects ready to be used. Tracks the object that is currently in use, total number of objects in the pool and reduces the overhead of creating and recreating objects. "
   ]
  },
  {
   "cell_type": "markdown",
   "metadata": {},
   "source": [
    "71. Common exceptions: argumentexception, argumentnullexception, argumentoutofrangeexception. dividebyzeroexception, etc. "
   ]
  },
  {
   "cell_type": "markdown",
   "metadata": {},
   "source": [
    "72. Delegates? Type safe function pointers. They can be used to write much more generic type-safe functions.\n",
    "    - References to methods with a particular parameter list and return type.\n",
    "    - When you instantiate a delegate you can associate its instance with any method with a compatible signature and return type\n",
    "    - They are used to passs methods as arguments to other methods.\n",
    "    ```c#\n",
    "    using System;\n",
    "    using System.Collections.Generic;\n",
    "    class Program\n",
    "    {\n",
    "        // define a method that returns sum of two int numbers \n",
    "        static int calculateSum(int x, int y)\n",
    "        {\n",
    "            return x + y;\n",
    "        }\n",
    "\n",
    "        // define a delegate\n",
    "        public delegate int myDelegate(int num1, int num2);\n",
    "\n",
    "        static void Main()\n",
    "        {\n",
    "            // create an instance of delegate by passing method name \n",
    "            myDelegate d = new myDelegate(calculateSum);\n",
    "\n",
    "            // calling calculateSum() using delegate\n",
    "            int result = d(5, 6);\n",
    "\n",
    "            Console.WriteLine(result);\n",
    "        }\n",
    "    }\n",
    "    ```"
   ]
  },
  {
   "cell_type": "markdown",
   "metadata": {},
   "source": [
    "73. Base class in .net?\n",
    "    - System.Object"
   ]
  },
  {
   "cell_type": "markdown",
   "metadata": {},
   "source": [
    "74. Method overriding vs method overloading? Method overriding  we change the method definition in the derived class that changes the method behaviour (using override keyword). Method overloading is creating a method with the same name within the same class having different signature (type and number of parameters) "
   ]
  },
  {
   "cell_type": "markdown",
   "metadata": {},
   "source": [
    "75. How can we set the class to be inherited but prevent the method from being overriden? Declare class public and make the method sealed."
   ]
  },
  {
   "cell_type": "markdown",
   "metadata": {},
   "source": [
    "76. Struct vs class? Structs are value-type variables and classes are reference types. Structs stored on the stack causes additional overhead but faster retrieval. Structs cannot be inherited."
   ]
  },
  {
   "cell_type": "markdown",
   "metadata": {},
   "source": [
    "77. Create an array with non-default values? Use Enumerable.Repeat."
   ]
  },
  {
   "cell_type": "markdown",
   "metadata": {},
   "source": [
    "78. is vs as operators? \"is\" is used to check compatibility of an object with a given type. \"as\" is used for casting to a type or a class."
   ]
  },
  {
   "cell_type": "markdown",
   "metadata": {},
   "source": [
    "79. multicast delegate? A delegate having multiple handlers assign to it. Each handler is assigned to a method."
   ]
  },
  {
   "cell_type": "markdown",
   "metadata": {},
   "source": [
    "80. indexers in c#? Smart arrays, allow instances of a class to be indexed in the same way as an array: \n",
    "    - The indexed value can be set or retrieved without explicitly specifying a type or instance member.\n",
    "    ```c#\n",
    "    using System;\n",
    "\n",
    "    class SampleCollection<T>\n",
    "    {\n",
    "        // Declare an array to store the data elements.\n",
    "        private T[] arr = new T[100];\n",
    "\n",
    "        // Define the indexer to allow client code to use [] notation.\n",
    "        public T this[int i]\n",
    "        {\n",
    "            get { return arr[i]; }\n",
    "            set { arr[i] = value; }\n",
    "        }\n",
    "    }\n",
    "\n",
    "    class Program\n",
    "    {\n",
    "        static void Main()\n",
    "        {\n",
    "            var stringCollection = new SampleCollection<string>();\n",
    "            stringCollection[0] = \"Hello, World\";\n",
    "            Console.WriteLine(stringCollection[0]);\n",
    "        }\n",
    "    }\n",
    "    //       Hello, World.\n",
    "    ```"
   ]
  },
  {
   "cell_type": "markdown",
   "metadata": {},
   "source": [
    "81. Difference between throw and throw ex? Throw preserve the original error stack whereas throw es have the stack trace from their throw point. Better use throw"
   ]
  },
  {
   "cell_type": "markdown",
   "metadata": {},
   "source": [
    "82. Attributes? Define declarative tags on certain entities (class, methods, etc). Attributes information can be retrieved using reflection."
   ]
  },
  {
   "cell_type": "markdown",
   "metadata": {},
   "source": [
    "83. C# is managed or unmanaged? Managed because the common language runtime can compile C# code to intermediate language."
   ]
  },
  {
   "cell_type": "markdown",
   "metadata": {},
   "source": [
    "84. IDisposable interface(). Contains a single method: Dispose() for releasing unmanaged resources. It is defined in the System namespace. Inside the Dispose() method we can perform the resources clean-up and also call GC.SuppressFinalize(this) to mark our object as finalized. \n",
    "    - You should implement IDisposable if your class uses unmanaged resources directly.\n",
    "    - If you are using a class that implements IDisposable you should call Dispose() method when you are finished using the class by the try/finally blocks.\n",
    "\n"
   ]
  },
  {
   "cell_type": "markdown",
   "metadata": {},
   "source": [
    "85. \n",
    "## HTTP lifecycle\n",
    "- url: uniform resource locator consists of: protocol (http), port number (:80), path (/path/to/my/resource), query string (?key1=value1)\n",
    "- Breakdown of the request:\n",
    "    1. A user types the URL in a web browser.\n",
    "    2. The browser sends the request and specifications to the server.\n",
    "    3. The server interprets the request, using route handling functions to interact with the db, form the response data and set the response status.\n",
    "    4. The server sends the response with a status code (200 ok, 401 unauthorized, 500 server error).\n",
    "    5. Browser interprets response and displays data from the server to the client. "
   ]
  },
  {
   "cell_type": "markdown",
   "metadata": {},
   "source": [
    "86. API Lifecycle\n",
    "\n",
    "## API lifecycle\n",
    "1. **Planning phase:** Identify services and capabilities an API should expose. \n",
    "    - Document specific business needs and refine the initial API goals.\n",
    "    - Define naming conventions, architectural styles and specific protocols to use.\n",
    "    - It should result in an API specification that describes the methods and operations supported.\n",
    "2. **Development phase:** \n",
    "    - Coding and testing.\n",
    "    - Discipline to minimize customer-facing API changes.\n",
    "    - Comprenhensive research and versioning controls.\n",
    "    - How to track API's use, performance, errors and other metrics?\n",
    "    - Security components (authorization and authentication).\n",
    "3. **Testing phase:**\n",
    "    - Developers must thoroughly test each iteration of the API for functionality, performance and user acceptance.\n",
    "    - Functional testing (every feature operates as intended).\n",
    "    - Performance testing (how the API performs under load).\n",
    "    - Acceptance testing: it can reveal new requirements that may arise.\n",
    "4. **Deployment phase:**\n",
    "    - Blue/green deployemnt is a deployment strategy in which you create two separate but identical environments. Blue is running the current application and green is running the new appplication. Developers try the newest API version with the software without impacting the live version.\n",
    "5. **Retirement phase:**\n",
    "    - Software teams retire old APIs and old versions so they don't waste resources supporting them.\n",
    "    - Plan a migration path from one API version to another. "
   ]
  },
  {
   "cell_type": "markdown",
   "metadata": {},
   "source": [
    "86. Cross-Origin resource sharing:\n",
    "    - Http-header based mechanism that allows a server to indicate any origins (domain, scheme or port) other that its own from which a browser should permit loading resources. Browsers make a \"preflight\" request to the server hosting the cross-origin resource, in order to check if the server will permit the actual request. The browser sends headers that indicate the HTTP method and headers that will be used in the actual request. "
   ]
  },
  {
   "cell_type": "markdown",
   "metadata": {},
   "source": [
    "87. Caching? Storing copies of files or data in a cache or temporary storage location. Local cache: destroyed after session ends. Distrubuted cache? Distributed on multiple servers.\n",
    "* Cache using Redis: improves application performance and scalability because it can supply the same data to multiple servers consistently and if one server restarts or crashes the cached data is still available. \n",
    "* Use the Redis distributed cache package. \n",
    "- Redis is an in-memory data structure store used as a database, cache, message broker and streaming engin. Provides data structures like strings, hashes, lists, sets, sorted sets. You can use it in many programming languages and also has a cloud-based version with the name Azure Cache for Redis. \n",
    "- Download Redis server from github. You can run redis-server.exe to start a Redis server.\n",
    "- Also supports Redis-cli and we can check cache using CLI tool\n",
    "- You can get and set values using commands:\n",
    "\n",
    "    ```bash\n",
    "    set myKey \"Diego\"\n",
    "    get myKey\n",
    "    >\"Diego\"\n",
    "    ```\n",
    "- Install Microsoft.Extensions.Caching.StackExchangeRedis nuget package\n",
    "- Add RedisCacheUrl in appsettings.json\n",
    "    ```json\n",
    "    {\n",
    "        \"Logging\": {\n",
    "            \"LogLevel\": {\n",
    "            \"Default\": \"Information\",\n",
    "            \"Microsoft.AspNetCore\": \"Warning\"\n",
    "            }\n",
    "        },\n",
    "        \"AllowedHosts\": \"*\",\n",
    "        \"RedisCacheUrl\": \"127.0.0.1:6379\",\n",
    "        //\"RedisCacheUrl\": \"sarathlal.redis.cache.windows.net:6380,password=k6CRosKzTY9vXMqH76F8rbl7m8PntopEwAzCaPcTyeM=,ssl=True,abortConnect=False\", // For Azure Redis Cache. Currently this resource is not available\n",
    "        \"ConnectionStrings\": {\n",
    "            \"ConnStr\": \"Data Source=(localdb)\\\\MSSQLLocalDB;Initial Catalog=AnalyticsDB;Integrated Security=True;ApplicationIntent=ReadWrite;MultiSubnetFailover=False\"\n",
    "        },\n",
    "        \"ParallelTasksCount\": 20\n",
    "    }\n",
    "    ```\n",
    "    - Use cache in the controller (inject cache DI)\n",
    "    - Program.cs\n",
    "    ```c# \n",
    "    using Microsoft.EntityFrameworkCore;\n",
    "    using RedisCacheASP.NET6.Models;\n",
    "\n",
    "    var builder = WebApplication.CreateBuilder(args);\n",
    "    ConfigurationManager configuration = builder.Configuration;\n",
    "\n",
    "    // Add services to the container.\n",
    "\n",
    "    builder.Services.AddControllers();\n",
    "    // Learn more about configuring Swagger/OpenAPI at https://aka.ms/aspnetcore/swashbuckle\n",
    "    builder.Services.AddEndpointsApiExplorer();\n",
    "    builder.Services.AddSwaggerGen();\n",
    "\n",
    "    builder.Services.AddDbContext<MyDbContext>(options => options.UseSqlServer(configuration.GetConnectionString(\"ConnStr\")));\n",
    "    builder.Services.AddStackExchangeRedisCache(options => { options.Configuration = configuration[\"RedisCacheUrl\"]; });\n",
    "\n",
    "    var app = builder.Build();\n",
    "\n",
    "    // Configure the HTTP request pipeline.\n",
    "    if (app.Environment.IsDevelopment())\n",
    "    {\n",
    "        app.UseSwagger();\n",
    "        app.UseSwaggerUI();\n",
    "    }\n",
    "\n",
    "    app.UseAuthorization();\n",
    "\n",
    "    app.MapControllers();\n",
    "\n",
    "    app.Run();\n",
    "    ```\n",
    "- Use the cache injected in the controller:\n",
    "    ```c#\n",
    "    using HtmlAgilityPack;\n",
    "    using Microsoft.AspNetCore.Mvc;\n",
    "    using Microsoft.Extensions.Caching.Distributed;\n",
    "    using RedisCacheASP.NET6.Models;\n",
    "    using System.Globalization;\n",
    "    using System.Net;\n",
    "    using System.Text;\n",
    "    using System.Text.Json;\n",
    "    using System.Xml.Linq;\n",
    "\n",
    "    namespace RedisCacheASP.NET6.Controllers\n",
    "    {\n",
    "        [Route(\"[controller]\")]\n",
    "        [ApiController]\n",
    "        public class AnalyticsController : ControllerBase\n",
    "        {\n",
    "            readonly CultureInfo culture = new(\"en-US\");\n",
    "            private readonly MyDbContext _dbContext;\n",
    "            private readonly IConfiguration _configuration;\n",
    "            private static readonly object _lockObj = new();\n",
    "            private readonly IDistributedCache _cache;\n",
    "            public AnalyticsController(MyDbContext context, IConfiguration configuration, IDistributedCache cache)\n",
    "            {\n",
    "                _dbContext = context;\n",
    "                _configuration = configuration;\n",
    "                _cache = cache;\n",
    "            }\n",
    "\n",
    "            [HttpGet]\n",
    "            [Route(\"GetAll/{authorId}/{enableCache}\")]\n",
    "            public async Task<List<ArticleMatrix>> GetAll(string authorId, bool enableCache)\n",
    "            {\n",
    "                if (!enableCache)\n",
    "                {\n",
    "                    return _dbContext.ArticleMatrices.Where(x => x.AuthorId == authorId).OrderByDescending(x => x.PubDate).ToList();\n",
    "                }\n",
    "                string cacheKey = authorId;\n",
    "\n",
    "                // Trying to get data from the Redis cache\n",
    "                byte[] cachedData = await _cache.GetAsync(cacheKey);\n",
    "                List<ArticleMatrix> articleMatrices = new();\n",
    "                if (cachedData != null)\n",
    "                {\n",
    "                    // If the data is found in the cache, encode and deserialize cached data.\n",
    "                    var cachedDataString = Encoding.UTF8.GetString(cachedData);\n",
    "                    articleMatrices = JsonSerializer.Deserialize<List<ArticleMatrix>>(cachedDataString);\n",
    "                }\n",
    "                else\n",
    "                {\n",
    "                    // If the data is not found in the cache, then fetch data from database\n",
    "                    articleMatrices = _dbContext.ArticleMatrices.Where(x => x.AuthorId == authorId).OrderByDescending(x => x.PubDate).ToList();\n",
    "\n",
    "                    // Serializing the data\n",
    "                    string cachedDataString = JsonSerializer.Serialize(articleMatrices);\n",
    "                    var dataToCache = Encoding.UTF8.GetBytes(cachedDataString);\n",
    "\n",
    "                    // Setting up the cache options\n",
    "                    DistributedCacheEntryOptions options = new DistributedCacheEntryOptions()\n",
    "                        .SetAbsoluteExpiration(DateTime.Now.AddMinutes(5))\n",
    "                        .SetSlidingExpiration(TimeSpan.FromMinutes(3));\n",
    "\n",
    "                    // Add the data into the cache\n",
    "                    await _cache.SetAsync(cacheKey, dataToCache, options);\n",
    "                }\n",
    "                return articleMatrices;\n",
    "            }\n",
    "        }\n",
    "    }\n",
    "    ```\n"
   ]
  },
  {
   "cell_type": "markdown",
   "metadata": {},
   "source": [
    "88. Microservices? Large applications are built as a collection of small functional modules. Great asset for methods of software devopment such as Devops and Agile\n",
    "- Maintanable and testable.\n",
    "- Loosely coupled.\n",
    "- Independtly deployable\n",
    "- Designed around business capabilities.\n",
    "- Main components:\n",
    "    - Clients.\n",
    "    - Messaging formats.\n",
    "    - Identity providers.\n",
    "    - API gateway.\n",
    "    - Databases.\n",
    "- API Gateway is an exxceptional class of microservices that fullfills the requirement of a single client application. It serves the backend resources (microservices) with a single entry point. Uses a client-side load balancer library to spread load all over the instances. \n",
    "- Microservices are difficult to troubleshoot.\n",
    "- Difficult to keep up transaction safety. \n",
    "- Continuous Integration? Making build and testing for code automatic whenever a team modifies version control. "
   ]
  },
  {
   "cell_type": "markdown",
   "metadata": {},
   "source": [
    "89. Docker? A very popular open-source containerization platform that is used for building, deploying and running applications. Decouple the application/software from the underlying infrastructure.\n",
    "- Container? Standard unit of software bundled with dependencies so the applications can be deployed fast.\n",
    "    - Containers as a very lightweight pre-installed box with all the packages, dependencies, software required by your application just to deploy to prod with minimal configuration changes.\n",
    "    - Get rid of the infraestructure dependency while deploying and running applications. \n",
    "- What are docker images? Executable packages (bundled with application code and dependencies, software packages, etc) for the purpose of creating containers. \n",
    "- Docker image vs container? Docker image is a template. A Docker container is a runtime instance of a Docker image whtn the $docker run command is implemented. \n",
    "- Docker file? Text file that has all the commands which need to be run for building a given image. \n",
    " - Docker file -> build Docker image -> Run Docker container.\n",
    "- Docker compose? Is a YAML file consisting of all the details regarding various services, networks and volumes needed for setting up the docker base application. It is used for creating multiple containers, host them and establish communication between them. \n",
    "- Dockerfile vs docker compose? Dockerfile define all your required services, docker compose define the relationships between each service in a compose file. Use docker compose to start the application.\n",
    "- Docker can be visualized as a big ship carrying huge boxes of products (containers).\n",
    "- Docker relies and make use of the kernel's resources and its functionality to allocate them for the CPU and memory and separate namespace to isolate the application's view of the OS.\n",
    "- Docker image registry? An area where the docker images are stored. Instead of converting the applications to containers every time the developer can use the images stored in the registry.\n",
    "- Docker components?\n",
    "    - Docker client: performs build and run operations for the purpose of opening communication with the Docker host.\n",
    "    - Docker host: has the main docker daemon and hosts container and ther associated images.\n",
    "    - Docker registry: stores docker images (docker hub or docker cloud).\n",
    "- Some commands:\n",
    "    - up: keeping the docker-compose up.\n",
    "    - run: the docker-compose can run one-off or ad-hoc tasks based on the business requirements. Helpful for testing containers.\n",
    "    - start: only those containers can be restarted which were already created and the stopped. Not useful for creating new containers. \n"
   ]
  },
  {
   "cell_type": "markdown",
   "metadata": {},
   "source": [
    "90. Worker service template:\n",
    "    "
   ]
  },
  {
   "cell_type": "markdown",
   "metadata": {},
   "source": [
    "91. Types of deployment in .NET core:\n",
    "    - Framework-dependent deployment (not third-party dependencies)\n",
    "        - Change the solution from Debug to release and  Publish in Solution Explorer.\n",
    "    - Self-contained without third-party dependencies. \n",
    "    - Self-contained with dependencies."
   ]
  }
 ],
 "metadata": {
  "kernelspec": {
   "display_name": "Python 3.9.6 64-bit",
   "language": "python",
   "name": "python3"
  },
  "language_info": {
   "name": "python",
   "version": "3.9.6"
  },
  "orig_nbformat": 4,
  "vscode": {
   "interpreter": {
    "hash": "31f2aee4e71d21fbe5cf8b01ff0e069b9275f58929596ceb00d14d90e3e16cd6"
   }
  }
 },
 "nbformat": 4,
 "nbformat_minor": 2
}
