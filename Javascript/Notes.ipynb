{
 "cells": [
  {
   "cell_type": "markdown",
   "metadata": {},
   "source": []
  },
  {
   "cell_type": "markdown",
   "metadata": {},
   "source": [
    "## Javascript questions"
   ]
  },
  {
   "cell_type": "markdown",
   "metadata": {},
   "source": [
    "1. Javascript is a client-side and server-side scripting language."
   ]
  },
  {
   "cell_type": "markdown",
   "metadata": {},
   "source": [
    "2. **Data types:** Number, string boolean, object and undefined."
   ]
  },
  {
   "cell_type": "markdown",
   "metadata": {},
   "source": [
    "3. Undeclared vs undefined: undeclared does not exits in the program and are not declared (they throw a runtime error). Undefined are declared but they don't have a value. "
   ]
  },
  {
   "cell_type": "markdown",
   "metadata": {},
   "source": [
    "4. The this object is the place where it was called."
   ]
  },
  {
   "cell_type": "markdown",
   "metadata": {},
   "source": [
    "5. Global variables have no scope. They use the **var** keyword"
   ]
  },
  {
   "cell_type": "markdown",
   "metadata": {},
   "source": [
    "6. 4 possible ways to create objects in javascript:\n",
    "    1. object constructor:\n",
    "        ```js\n",
    "        var object = new Object();\n",
    "        ```\n",
    "    2. object create method:\n",
    "        ```js\n",
    "        var object = Object.create();\n",
    "        ```\n",
    "    3. object literal:\n",
    "        ```js\n",
    "        var object = {name : \"Diego\"}\n",
    "        ```\n",
    "    4. ES6 class syntax\n",
    "        ```js\n",
    "        var object = new Person(\"Diego\");\n",
    "        ```"
   ]
  },
  {
   "cell_type": "markdown",
   "metadata": {},
   "source": [
    "7. Prototype chain: build new types of objects based on existing ones. Similar to inheritance.\n",
    "    ```js\n",
    "    Object.getPrototype(object); //or\n",
    "    Object.prototype;\n",
    "    ```"
   ]
  },
  {
   "cell_type": "markdown",
   "metadata": {},
   "source": [
    "8. Difference between call, bind and apply:\n",
    "- **Call:** invokes a function with values provided one by one and a given **this** value. Executes the function inmmediately:\n",
    "    ```js\n",
    "    var employee1 = {firstName : \"Diego\", lastName: \"Guillen\"};\n",
    "\n",
    "    function invite(greeting1, greeting2){\n",
    "        console.log(`${greeting1} ${this.firstName}, ${greeting2}`);\n",
    "    }\n",
    "    invite.call(employee1, \"Hello\", \"how are you?\");\n",
    "    //Hello Diego, how are you?\n",
    "    ```\n",
    "- **Apply:** invokes a function with a giving this (object from where it was called) value and allos to pass arguments as an array. Executes inmmediately:\n",
    "    ```js\n",
    "    var employee1 = {firstName : \"Diego\", lastName: \"Guillen\"};\n",
    "    fuction invite(greeting1, greeting2){\n",
    "        console.log(`${greeting1} ${this.firstName}, ${greeting2}`);\n",
    "    }\n",
    "\n",
    "    invite.apply(employee1, [\"Hello\", \"how are you?\"]);\n",
    "    //Hello Diego, how are yonu?\n",
    "    ```\n",
    "- **Bind:** returns a new function, allowing you to pass any number of arguments. \n",
    "    ```js\n",
    "    var employee1 = {firstName : \"Diego\", lastName: \"Guillen\"};\n",
    "    function invite(greeting1, greeting2){\n",
    "        console.log(`${greeting1} ${this.firstName}, ${greeting2}`);\n",
    "    }\n",
    "\n",
    "    var inviteEmployee1 = invite.bind(employee1);\n",
    "    inviteEmployee1(\"Hello\", \"how are you?\")\n",
    "    //Hello Diego, how are you?\n",
    "    ```"
   ]
  },
  {
   "cell_type": "markdown",
   "metadata": {},
   "source": [
    "9. JSON is a text-based data format to transmit data accross network. \n",
    "    ```js\n",
    "    //Parse to JSON:\n",
    "    var newJson = JSON.parse(text);\n",
    "    //Parse to text\n",
    "    var text = JSON.stringify(objec);\n",
    "    ```"
   ]
  },
  {
   "cell_type": "markdown",
   "metadata": {},
   "source": [
    "10. Array's slice() method return select elements in an array as a new array object. If you omit the second argument it selects till the end of the array. Slice **DOESN'T** mutate the original array:\n",
    "    ```js\n",
    "    var originalArray = [1, 2, \"apple\", 3, \"bee\"];\n",
    "    var slicedArray = originalArray.slice(1,3);\n",
    "    console.log(slicedArray);\n",
    "    console.log(originalArray);\n",
    "    /*\n",
    "    [ 2, 'apple' ]\n",
    "    [ 1, 2, 'apple', 3, 'bee' ]\n",
    "    */\n",
    "    ```"
   ]
  },
  {
   "cell_type": "markdown",
   "metadata": {},
   "source": [
    "11. Array's splice() method add / removes items from an array. Syntax: splice(startPos, elementsToDelete, argsToAdd). Splice **DOES** modify the original array and returns the deleted array:\n",
    "    ```js\n",
    "    //Add example:\n",
    "    var originalArray = [1, 2, \"apple\", 3, \"bee\"];\n",
    "    var splicedArray = originalArray.splice(5,0, \"cow\");\n",
    "    console.log(splicedArray);\n",
    "    console.log(originalArray);\n",
    "    /*[]\n",
    "    [ 1, 2, 'apple', 3, 'bee', 'cow' ] */\n",
    "    \n",
    "    //Remove example:\n",
    "    var originalArray = [1, 2, \"apple\", 3, \"bee\"];\n",
    "    var splicedArray = originalArray.splice(1,3);\n",
    "    console.log(splicedArray);\n",
    "    console.log(originalArray);\n",
    "    /*[ 2, 'apple', 3 ]\n",
    "    [ 1, 'bee' ] */\n",
    "    ```"
   ]
  },
  {
   "cell_type": "markdown",
   "metadata": {},
   "source": [
    "12. Objects vs Map\n",
    "| Object      | Map | \n",
    "| :---        |    :----:   | \n",
    "| Keys are strings or symbols | Any value can be key (even functions) | \n",
    "| Keys are not ordered | Keys are ordered|\n",
    "|Neet to get keys to iterate| Maps are iterable, better performance for insertion| "
   ]
  },
  {
   "cell_type": "markdown",
   "metadata": {},
   "source": [
    "13. Difference between == and ===, the second one considers the value and the type."
   ]
  },
  {
   "cell_type": "markdown",
   "metadata": {},
   "source": [
    "14. NaN is not equal to anything, not even another NaN "
   ]
  },
  {
   "cell_type": "markdown",
   "metadata": {},
   "source": [
    "15. Two objects are equal if they refer to the same object:\n",
    "    ```js\n",
    "    null == undefined //true\n",
    "    null === undefined //false\n",
    "    ```"
   ]
  },
  {
   "cell_type": "markdown",
   "metadata": {
    "vscode": {
     "languageId": "plaintext"
    }
   },
   "source": [
    "16. Lambda or arrow function: function expression doesn't have its own this, arguments, super or new.target."
   ]
  },
  {
   "cell_type": "markdown",
   "metadata": {},
   "source": [
    "17. **First class function vs first order function**\n",
    " - **First class:** functions are first class objects (treated like any other variables). A function can be passed as an argument to other function or it can be returned by other function and can be asssigned to a variable.\n",
    " - **First order:** doesn't accept another function as an argument or doesn't return a function as its return value. \n",
    "    ```js\n",
    "    const firstOrderFunction = () => console.log(\"First order function\");\n",
    "    const highOrderFunction = (ReturnOfFunction) => ReturnOfFunction();\n",
    "    highOrderFunction(firstOrderFunction);//First order function\n",
    "    ```\n"
   ]
  },
  {
   "cell_type": "markdown",
   "metadata": {},
   "source": [
    "18. Unary functions: accepts exactly one argument."
   ]
  },
  {
   "cell_type": "markdown",
   "metadata": {},
   "source": [
    "19. Pure functions: return value is determined by its arguments without side effects. It will return the same result if the same arguments are passed, so it does not depend on any state or data change during a program's execution.\n",
    "- Pure function example:\n",
    "    ```js\n",
    "    function calculateGST(productPrice){\n",
    "        return productPrice * 0.5;\n",
    "    }\n",
    "    ```\n",
    "- Non pure function example (depends on the tax variable):\n",
    "    ```js\n",
    "    var tax = 20;\n",
    "     function calculateGST(productPrice){\n",
    "        return productPrice * (tax/100) + productPrice;\n",
    "    }\n",
    "    ```"
   ]
  },
  {
   "cell_type": "markdown",
   "metadata": {},
   "source": [
    "20. let keyword: block scope local variable. Limited to the scope of the block, statement or expression. Variables declared with var are globally scoped. var has a function scope so variables will be hoisted."
   ]
  },
  {
   "cell_type": "markdown",
   "metadata": {},
   "source": [
    "21. Redeclare variables in a switch blocks to create a nested block inside the case clause and create a new blocked scoped lexical environment:\n",
    "    ```js\n",
    "    let counter = 1;\n",
    "    switch(counter){\n",
    "        case 0:{\n",
    "            let name;\n",
    "            break;\n",
    "        }\n",
    "        case 1:{\n",
    "            let name;\n",
    "            break;\n",
    "        }\n",
    "    }\n",
    "    ```"
   ]
  },
  {
   "cell_type": "markdown",
   "metadata": {},
   "source": [
    "22. IIFE (inmmediately invoked function expression). It runs as soon as it is defined\n",
    "    ```js\n",
    "    (function(){\n",
    "        var message = \"IIFE\";\n",
    "        console.log(message);\n",
    "    })();\n",
    "    console.log(message);\n",
    "\n",
    "    /*IIFE\n",
    "    /tmp/9dLLuN8z2P.js:5\n",
    "    console.log(message);\n",
    "                ^\n",
    "\n",
    "    ReferenceError: message is not defined */\n",
    "    ```"
   ]
  },
  {
   "cell_type": "markdown",
   "metadata": {},
   "source": [
    "23. Hoisting: variables, function declarations and classes are moved to the top of their scope. It only hoistis declarations, not "
   ]
  }
 ],
 "metadata": {
  "language_info": {
   "name": "python"
  },
  "orig_nbformat": 4
 },
 "nbformat": 4,
 "nbformat_minor": 2
}
