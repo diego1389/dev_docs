{
 "cells": [
  {
   "cell_type": "markdown",
   "metadata": {},
   "source": []
  },
  {
   "cell_type": "markdown",
   "metadata": {},
   "source": [
    "## Javascript questions"
   ]
  },
  {
   "cell_type": "markdown",
   "metadata": {},
   "source": [
    "1. Javascript is a client-side and server-side scripting language."
   ]
  },
  {
   "cell_type": "markdown",
   "metadata": {},
   "source": [
    "2. **Data types:** Number, string boolean, object and undefined."
   ]
  },
  {
   "cell_type": "markdown",
   "metadata": {},
   "source": [
    "3. Undeclared vs undefined: undeclared does not exist in the program and are not declared (they throw a runtime error). Undefined are declared but they don't have a value. "
   ]
  },
  {
   "cell_type": "markdown",
   "metadata": {},
   "source": [
    "4. The this object is the place where it was called."
   ]
  },
  {
   "cell_type": "markdown",
   "metadata": {},
   "source": [
    "5. Global variables have no scope. They use the **var** keyword"
   ]
  },
  {
   "cell_type": "markdown",
   "metadata": {},
   "source": [
    "6. 4 possible ways to create objects in javascript:\n",
    "    1. object constructor:\n",
    "        ```js\n",
    "        var object = new Object();\n",
    "        ```\n",
    "    2. object create method:\n",
    "        ```js\n",
    "        var object = Object.create();\n",
    "        ```\n",
    "    3. object literal:\n",
    "        ```js\n",
    "        var object = {name : \"Diego\"}\n",
    "        ```\n",
    "    4. ES6 class syntax\n",
    "        ```js\n",
    "        var object = new Person(\"Diego\");\n",
    "        ```"
   ]
  },
  {
   "cell_type": "markdown",
   "metadata": {},
   "source": [
    "7. Prototype chain: build new types of objects based on existing ones. Similar to inheritance.\n",
    "    ```js\n",
    "    Object.getPrototype(object); //or\n",
    "    Object.prototype;\n",
    "    ```"
   ]
  },
  {
   "cell_type": "markdown",
   "metadata": {},
   "source": [
    "8. Difference between call, bind and apply:\n",
    "- **Call:** invokes a function with values provided one by one and a given **this** value. Executes the function inmmediately:\n",
    "    ```js\n",
    "    var employee1 = {firstName : \"Diego\", lastName: \"Guillen\"};\n",
    "\n",
    "    function invite(greeting1, greeting2){\n",
    "        console.log(`${greeting1} ${this.firstName}, ${greeting2}`);\n",
    "    }\n",
    "    invite.call(employee1, \"Hello\", \"how are you?\");\n",
    "    //Hello Diego, how are you?\n",
    "    ```\n",
    "- **Apply:** invokes a function with a giving this (object from where it was called) value and allows to pass arguments as an array. Executes inmmediately:\n",
    "    ```js\n",
    "    var employee1 = {firstName : \"Diego\", lastName: \"Guillen\"};\n",
    "    fuction invite(greeting1, greeting2){\n",
    "        console.log(`${greeting1} ${this.firstName}, ${greeting2}`);\n",
    "    }\n",
    "\n",
    "    invite.apply(employee1, [\"Hello\", \"how are you?\"]);\n",
    "    //Hello Diego, how are yonu?\n",
    "    ```\n",
    "- **Bind:** returns a new function, allowing you to pass any number of arguments. \n",
    "    ```js\n",
    "    var employee1 = {firstName : \"Diego\", lastName: \"Guillen\"};\n",
    "    function invite(greeting1, greeting2){\n",
    "        console.log(`${greeting1} ${this.firstName}, ${greeting2}`);\n",
    "    }\n",
    "\n",
    "    var inviteEmployee1 = invite.bind(employee1);\n",
    "    inviteEmployee1(\"Hello\", \"how are you?\")\n",
    "    //Hello Diego, how are you?\n",
    "    ```"
   ]
  },
  {
   "cell_type": "markdown",
   "metadata": {},
   "source": [
    "9. JSON is a text-based data format to transmit data accross network. \n",
    "    ```js\n",
    "    //Parse to JSON:\n",
    "    var newJson = JSON.parse(text);\n",
    "    //Parse to text\n",
    "    var text = JSON.stringify(objec);\n",
    "    ```"
   ]
  },
  {
   "cell_type": "markdown",
   "metadata": {},
   "source": [
    "10. Array's slice() method return select elements in an array as a new array object. If you omit the second argument it selects till the end of the array. Slice **DOESN'T** mutate the original array:\n",
    "    ```js\n",
    "    var originalArray = [1, 2, \"apple\", 3, \"bee\"];\n",
    "    var slicedArray = originalArray.slice(1,3);\n",
    "    console.log(slicedArray);\n",
    "    console.log(originalArray);\n",
    "    /*\n",
    "    [ 2, 'apple' ]\n",
    "    [ 1, 2, 'apple', 3, 'bee' ]\n",
    "    */\n",
    "    ```"
   ]
  },
  {
   "cell_type": "markdown",
   "metadata": {},
   "source": [
    "11. Array's splice() method add / removes items from an array. Syntax: splice(startPos, elementsToDelete, argsToAdd). Splice **DOES** modify the original array and returns the deleted array:\n",
    "    ```js\n",
    "    //Add example:\n",
    "    var originalArray = [1, 2, \"apple\", 3, \"bee\"];\n",
    "    var splicedArray = originalArray.splice(5,0, \"cow\");\n",
    "    console.log(splicedArray);\n",
    "    console.log(originalArray);\n",
    "    /*[]\n",
    "    [ 1, 2, 'apple', 3, 'bee', 'cow' ] */\n",
    "    \n",
    "    //Remove example:\n",
    "    var originalArray = [1, 2, \"apple\", 3, \"bee\"];\n",
    "    var splicedArray = originalArray.splice(1,3);\n",
    "    console.log(splicedArray);\n",
    "    console.log(originalArray);\n",
    "    /*[ 2, 'apple', 3 ]\n",
    "    [ 1, 'bee' ] */\n",
    "    ```"
   ]
  },
  {
   "cell_type": "markdown",
   "metadata": {},
   "source": [
    "12. Objects vs Map:\n",
    "\n",
    "| Object      | Map | \n",
    "| :---        |    :----:   | \n",
    "| Keys are strings or symbols | Any value can be key (even functions) | \n",
    "| Keys are not ordered | Keys are ordered|\n",
    "|Neet to get keys to iterate| Maps are iterable, better performance for insertion| "
   ]
  },
  {
   "cell_type": "markdown",
   "metadata": {},
   "source": [
    "13. Difference between == and ===, the second one considers the value and the type."
   ]
  },
  {
   "cell_type": "markdown",
   "metadata": {},
   "source": [
    "14. NaN is not equal to anything, not even another NaN "
   ]
  },
  {
   "cell_type": "markdown",
   "metadata": {},
   "source": [
    "15. Two objects are equal if they refer to the same object:\n",
    "    ```js\n",
    "    null == undefined //true\n",
    "    null === undefined //false\n",
    "    ```"
   ]
  },
  {
   "cell_type": "markdown",
   "metadata": {
    "vscode": {
     "languageId": "plaintext"
    }
   },
   "source": [
    "16. Lambda or arrow function: function expression doesn't have its own **this**, arguments, super or new.target."
   ]
  },
  {
   "cell_type": "markdown",
   "metadata": {},
   "source": [
    "17. **First class function vs first order function**\n",
    "- First class functions are functions that are treated like an object (or are assignable to a variable). Higher order functions (first order function) are functions that take at least one first class function as a parameter, or return at least one first class function.\n",
    "    ```js\n",
    "    const firstClassFunction = () => console.log(\"First order function\");\n",
    "    const highOrderFunction = (ReturnOfFunction) => ReturnOfFunction();\n",
    "    highOrderFunction(firstOrderFunction);//First order function\n",
    "    ```\n"
   ]
  },
  {
   "cell_type": "markdown",
   "metadata": {},
   "source": [
    "18. Unary functions: accepts exactly one argument."
   ]
  },
  {
   "cell_type": "markdown",
   "metadata": {},
   "source": [
    "19. Pure functions: return value is determined by its arguments without side effects. It will return the same result if the same arguments are passed, so it does not depend on any state or data change during a program's execution.\n",
    "- Pure function example:\n",
    "    ```js\n",
    "    function calculateGST(productPrice){\n",
    "        return productPrice * 0.5;\n",
    "    }\n",
    "    ```\n",
    "- Non pure function example (depends on the tax variable):\n",
    "    ```js\n",
    "    var tax = 20;\n",
    "     function calculateGST(productPrice){\n",
    "        return productPrice * (tax/100) + productPrice;\n",
    "    }\n",
    "    ```"
   ]
  },
  {
   "cell_type": "markdown",
   "metadata": {},
   "source": [
    "20. let keyword: block scope local variable. Limited to the scope of the block, statement or expression. Variables declared with var are globally scoped. var has a function scope so variables will be hoisted."
   ]
  },
  {
   "cell_type": "markdown",
   "metadata": {},
   "source": [
    "21. Redeclare variables in a switch blocks to create a nested block inside the case clause and create a new blocked scoped lexical environment:\n",
    "    ```js\n",
    "    let counter = 1;\n",
    "    switch(counter){\n",
    "        case 0:{\n",
    "            let name;\n",
    "            break;\n",
    "        }\n",
    "        case 1:{\n",
    "            let name;\n",
    "            break;\n",
    "        }\n",
    "    }\n",
    "    ```"
   ]
  },
  {
   "cell_type": "markdown",
   "metadata": {},
   "source": [
    "22. IIFE (inmmediately invoked function expression). It runs as soon as it is defined\n",
    "    ```js\n",
    "    (function(){\n",
    "        var message = \"IIFE\";\n",
    "        console.log(message);\n",
    "    })();\n",
    "    console.log(message);\n",
    "\n",
    "    /*IIFE\n",
    "    /tmp/9dLLuN8z2P.js:5\n",
    "    console.log(message);\n",
    "                ^\n",
    "\n",
    "    ReferenceError: message is not defined */\n",
    "    ```"
   ]
  },
  {
   "cell_type": "markdown",
   "metadata": {},
   "source": [
    "23. Hoisting: variables, function declarations and classes are moved to the top of their scope. It only hoistis declarations, not initialization:\n",
    "    ```js\n",
    "    console.log(message); //undefined\n",
    "    var message = \"Hello world\";\n",
    "\n",
    "    /*Same as*/\n",
    "\n",
    "    var message;\n",
    "    console.log(message); //undefined\n",
    "    message = \"Hello world\";\n",
    "    ```"
   ]
  },
  {
   "cell_type": "markdown",
   "metadata": {},
   "source": [
    "24. Classes are syntactic sugar over prototype-based inheritance.\n",
    "- Prototype example:\n",
    "    ```js\n",
    "    function Bike(model, color){\n",
    "        this.model = model;\n",
    "        this.color = color;\n",
    "    }\n",
    "    Bike.prototype.getDetails = function(){\n",
    "        return `${this.model} bike has ${this.color} color`;\n",
    "    }\n",
    "\n",
    "    var result = new Bike('RGK', 'blue');\n",
    "    console.log(result.getDetails());//RGK bike has blue color\n",
    "    ```\n",
    "- Class example:\n",
    "    ```js\n",
    "    class Bike{\n",
    "        constructor(model, color){\n",
    "            this.color = color;\n",
    "            this.model = model;\n",
    "        }\n",
    "        \n",
    "        getDetails(){\n",
    "            return `${this.model} bike has ${this.color} color`;\n",
    "        }\n",
    "    }\n",
    "\n",
    "    var result = new Bike('RGK', 'blue');\n",
    "    console.log(result.getDetails());//RGK bike has blue color\n",
    "    ```\n",
    "- Another class example:\n",
    "    ```js\n",
    "    class Human{\n",
    "        constructor(name){\n",
    "            this.name = name;\n",
    "        }\n",
    "    }\n",
    "    class Pedro extends Human{\n",
    "        constructor(name, age){\n",
    "            super(name);\n",
    "            this.age = age;\n",
    "        }\n",
    "    }\n",
    "    \n",
    "    var p = new Pedro('Pedro', 25);\n",
    "    console.log(`${p.name} is ${p.age} years old.`); //Pedro is 25 years old\n",
    "    ```"
   ]
  },
  {
   "cell_type": "markdown",
   "metadata": {},
   "source": [
    "25. Closures: combination of a function bundled together (enclosed) with references to its surrounding state (\"lexical environment\"). It gives you access to other function's scope from an inner function. \n",
    "    ```js\n",
    "    function init(){\n",
    "        var name = \"Mozilla\";\n",
    "        function displayName(){\n",
    "            console.log(name);//access init() scope from displayName to read the name variable\n",
    "        }\n",
    "        displayName();\n",
    "    }\n",
    "\n",
    "    init(); //Mozilla\n",
    "    ```\n",
    "    - displayName() is only available within the body of init() function.\n",
    "    - blocks({}) do not create scope only in ES6 const and let. "
   ]
  },
  {
   "cell_type": "markdown",
   "metadata": {},
   "source": [
    "26. Modules: small units of independent, reusable code.\n",
    "- Benefits:\n",
    "    - Maintainability.\n",
    "    - Readability.\n",
    "    - Namespacing."
   ]
  },
  {
   "cell_type": "markdown",
   "metadata": {},
   "source": [
    "27. Scope: accesibility of variables, functions and objects during runtime. It determines the visibility of variables and other resourse in areas of your code. "
   ]
  },
  {
   "cell_type": "markdown",
   "metadata": {},
   "source": [
    "28. Web storage: api that provides a mechanism by which browers can store key/value pairs locally within the user's browser. Two mechanisms: local storage (window.localStorage) and session storage (window.sessionStorage). Session storage persists the data even when the browser is closed. \n",
    "  ```js\n",
    "  // Check browser support\n",
    "  if (typeof(Storage) !== \"undefined\") {\n",
    "    // Store\n",
    "    localStorage.setItem(\"lastname\", \"Smith2\");\n",
    "    // Retrieve\n",
    "    document.getElementById(\"result\").innerHTML = localStorage.getItem(\"lastname\");\n",
    "  } else {\n",
    "    document.getElementById(\"result\").innerHTML = \"Sorry, your browser does not support Web Storage...\";\n",
    "  }\n",
    "  ```"
   ]
  },
  {
   "cell_type": "markdown",
   "metadata": {},
   "source": [
    "29. A promise is a object that may produce a single value some time in the future with either a resolved value or a reason that is not resolved. Used to handle async operations. States:\n",
    "    1. Fullfilled.\n",
    "    2. Rejected.\n",
    "    3. Pending. "
   ]
  },
  {
   "cell_type": "markdown",
   "metadata": {},
   "source": [
    "30. **Call back functions:** is a function passed as an argument into another function. It is invoked inside the outer function to complete an action. \n",
    "Javascript is an event driven language. Instead of waiting for a response it will keep executing while listening for other events. Callback functions are used as a way to make sure that certain code doesn't execute until the other code finishes execution."
   ]
  },
  {
   "cell_type": "markdown",
   "metadata": {},
   "source": [
    "31. Callback hell: multiple nested callbacks which makes code hard to read and debug. \n",
    "    ```js\n",
    "    async1(function(){\n",
    "        async2(function(){\n",
    "            async3(function(){\n",
    "                async4(function(){\n",
    "                    ....\n",
    "                });\n",
    "            });\n",
    "        });\n",
    "    });\n",
    "    ```"
   ]
  },
  {
   "cell_type": "markdown",
   "metadata": {},
   "source": [
    "32. **Rules of a promise:**\n",
    "    1. A promise is an object that supplies a standard-compliant .then() method\n",
    "    2. A pending promise may transition into either fulfilled or rejected state\n",
    "    3. A fulfilled or rejected promise is settled and it must not transition into any other state.\n",
    "    4. Once a promise is settled, the value must not change."
   ]
  },
  {
   "cell_type": "markdown",
   "metadata": {},
   "source": [
    "33. **Promise chaining:** executing a sequence of asynchronous tasks one after another:\n",
    "    ```js\n",
    "    new Promise(function(resolve, reject){\n",
    "        setTimeout(()=>resolve(1), 1000);\n",
    "    }).then(function(result){\n",
    "        console.log(result);//1\n",
    "        return result *2; \n",
    "    })\n",
    "    .then(function(result){\n",
    "        console.log(result);//2\n",
    "        return result*3;\n",
    "    })\n",
    "    .then(function(result){\n",
    "        console.log(result);//6\n",
    "        return result*4;\n",
    "    })\n",
    "    ```"
   ]
  },
  {
   "cell_type": "markdown",
   "metadata": {},
   "source": [
    "34. Promise.all: takes an array of promises as an input and it gets resolved when all the promises get resolved:\n",
    "    ```js\n",
    "    Promise.all([p1,p2]).then(result => {})\n",
    "    ```"
   ]
  },
  {
   "cell_type": "markdown",
   "metadata": {},
   "source": [
    "35. Promise.race will return the promise instance that is resolved or rejected firstly ."
   ]
  },
  {
   "cell_type": "markdown",
   "metadata": {},
   "source": [
    "36. strict mode: notify 'bad syntax' into real errors. Accidentally create a global variable error for assignment to a non-writable property. \n",
    "    ```js\n",
    "    \"use strict\"\n",
    "    x = 3.14; //ReferenceError: x is not defined\n",
    "    ```"
   ]
  },
  {
   "cell_type": "markdown",
   "metadata": {},
   "source": [
    "37. Double exclamation: ensures that the resulting type is a boolean. If it is a falsey (0, null, undefined) it would return false.\n",
    "    ```js\n",
    "    let isIE8 = !!undefined;\n",
    "    console.log(isIE8);//false\n",
    "    ```"
   ]
  },
  {
   "cell_type": "markdown",
   "metadata": {},
   "source": [
    "38. delete keyword: is used to delete the property, as well as its value:\n",
    "    ```js\n",
    "    var user = {name: 'Jon', age: '27'};\n",
    "    delete user.age;\n",
    "    console.log(user); //{name: 'Jon'}\n",
    "    ```"
   ]
  },
  {
   "cell_type": "markdown",
   "metadata": {},
   "source": [
    "39. undefined vs null \n",
    "- undefined means a variable has not been assigned a value.\n",
    "- null represents the intentional absense of any object.\n",
    "\n",
    "| null      | undefined |\n",
    "| ----------- | ----------- |\n",
    "| assignment value| not assignment value |\n",
    "| type: object   | type: undefined        |\n",
    "| absense of value |absense of variable|\n"
   ]
  },
  {
   "cell_type": "markdown",
   "metadata": {},
   "source": [
    "40. eval() represents evaluation of code as a string. Javascript expression, variables, statements, etc:\n",
    "    ```js\n",
    "    console.log(eval(\"1+2\"));//3\n",
    "    ```"
   ]
  },
  {
   "cell_type": "markdown",
   "metadata": {},
   "source": [
    "41. isNaN() is a function used to determine wether a value is an illegal number or not. "
   ]
  },
  {
   "cell_type": "markdown",
   "metadata": {},
   "source": [
    "42. \n",
    "\n",
    "|undeclared | undefined|\n",
    "|----------|-----------|\n",
    "|variables do not exists in a program|variables are declared but have not been assigned any value|\n",
    "|if you try to read an undeclared variable get a runtime error||"
   ]
  },
  {
   "cell_type": "markdown",
   "metadata": {},
   "source": [
    "43. **Event flow:** order in which event is received on the web page. When you click an element that is nested inside other elements, before your click reaches its destination it must trigger the click event for each of its parent elements first. "
   ]
  },
  {
   "cell_type": "markdown",
   "metadata": {},
   "source": [
    "44. **attributes:** are defined on the html markup whereas properties are defined on the DOM."
   ]
  },
  {
   "cell_type": "markdown",
   "metadata": {},
   "source": [
    "45. JS is an interpreted language. Modern browsers use a technology called Just-in-time (compilation) which compiles JS to executable bytecode."
   ]
  },
  {
   "cell_type": "markdown",
   "metadata": {},
   "source": [
    "46. JS is a single-threaded language. "
   ]
  },
  {
   "cell_type": "markdown",
   "metadata": {},
   "source": [
    "47. **Event-driven delegation:** tecnique for  listening to events where you delegate a parent element as the listener for all of the events that happen inside it (addEventListener)."
   ]
  },
  {
   "cell_type": "markdown",
   "metadata": {},
   "source": [
    "48. ECMAScript scripting language that forms the basis of javascript. "
   ]
  },
  {
   "cell_type": "markdown",
   "metadata": {},
   "source": [
    "49. 3 ways to check if a string contains a substring:\n",
    "    1. includes()\n",
    "    2. indexOf()\n",
    "    3. regex.test()"
   ]
  },
  {
   "cell_type": "markdown",
   "metadata": {},
   "source": [
    "50. arguments object is an array-like object accessible inside functions that contains the values of the arguments passed to that function. \n",
    "    ```js\n",
    "    function sum(){\n",
    "        let total = 0;\n",
    "        for(var i = 0, len = arguments.length; i<len; ++i){\n",
    "            total += arguments[i];\n",
    "        }\n",
    "        return total;\n",
    "    }\n",
    "\n",
    "    console.log(sum(1,2,3));//6\n",
    "    ```\n"
   ]
  },
  {
   "cell_type": "markdown",
   "metadata": {},
   "source": [
    "51. Use date.getTime to compare date values. The getTime() method returns the number of milliseconds since the epoch, which is defined as the midnight at the beginning of January 1, 1970, UTC."
   ]
  },
  {
   "cell_type": "markdown",
   "metadata": {},
   "source": [
    "52. You can define properties for functions:\n",
    "    ```js\n",
    "    fn = function(x){\n",
    "        console.log('Inside function');\n",
    "    }\n",
    "\n",
    "    fn.prop = \"John\";\n",
    "    console.log(fn.prop);//John\n",
    "    ```"
   ]
  },
  {
   "cell_type": "markdown",
   "metadata": {},
   "source": [
    "53. Use function.length to find the number of parameters expected by a function. \n",
    "    ```js\n",
    "    fn = function(x, y, z){\n",
    "        console.log('Inside function');\n",
    "    }\n",
    "\n",
    "    console.log(fn.length);//3\n",
    "    ```"
   ]
  },
  {
   "cell_type": "markdown",
   "metadata": {},
   "source": [
    "54. Regular expression is a sequence of characters that form a search pattern. "
   ]
  },
  {
   "cell_type": "markdown",
   "metadata": {},
   "source": [
    "55. You can apply chaining to the conditional operator (ternary operator)."
   ]
  },
  {
   "cell_type": "markdown",
   "metadata": {},
   "source": [
    "56. The _proto_ object is the actual object that is used in the lookup chain to resolve methods. The prototype is the object that is used to build _proto_ when yuo create an object with new keyword. prototypes are the mechanism by which JS objects inherit features from one another.\n",
    "Every JS object has a built-in property called **prototype**. It is itself an object, so the prototype will have its own prototype (prototype chain). The chain ends when we reach a prototype that has null for its own prototype. \n",
    "The property of an object that points to its prototype is called _proto_.\n",
    "When you try to access a property of an object, if the property cannot be found the prototype is searched for the property, and then the prototype's prototype is searched. When the end of the chain is reached it returns undefined. "
   ]
  },
  {
   "cell_type": "markdown",
   "metadata": {},
   "source": [
    "57. Two ways of setting a prototype:\n",
    "    1. using Object.create\n",
    "    ```js\n",
    "    const personPrototype = {\n",
    "        greet(){\n",
    "            console.log('Hello');\n",
    "        }\n",
    "    }\n",
    "\n",
    "    const carl = Object.create(personPrototype);\n",
    "    carl.greet();//Hello\n",
    "    ```\n",
    "    2. constructor:\n",
    "    ```js\n",
    "    const personPrototype = {\n",
    "        greet(){\n",
    "            console.log(`Hello my name is ${this.name}`);\n",
    "        }\n",
    "    }\n",
    "    function Person(name){\n",
    "        this.name = name;\n",
    "    }\n",
    "\n",
    "    Object.assign(Person.prototype, personPrototype);\n",
    "    const diego = new Person('Diego');\n",
    "    diego.greet();//Hello my name is Diego\n",
    "    ```"
   ]
  },
  {
   "cell_type": "markdown",
   "metadata": {},
   "source": [
    "58. The freeze() method does not allow adding new properties to an object, prevents from removing and configuring of existing properties. \n",
    "    ```js\n",
    "    \"use strict\"\n",
    "    let obj = {\n",
    "        prop : 100\n",
    "    }\n",
    "\n",
    "    Object.freeze(obj);\n",
    "    obj.prop = 200;//cannot assign to readonly property error.\n",
    "    ```"
   ]
  },
  {
   "cell_type": "markdown",
   "metadata": {},
   "source": [
    "59. rest parameter. Improved way to handle function parameters, which allows to represent an indefinite number of parameters as an array.\n",
    "    ```js\n",
    "    function total(multiplier, ...args){\n",
    "        let sum = 0;\n",
    "        for(let i of args){\n",
    "            sum += i * multiplier;//i is 1, 2, 3\n",
    "        }\n",
    "        return sum;\n",
    "    }\n",
    "    console.log(total(2,1,2,3));//12\n",
    "    ```\n",
    "- rest operator should be used as the last argument. "
   ]
  },
  {
   "cell_type": "markdown",
   "metadata": {},
   "source": [
    "60. spread operators allows iterables to be expanded into single arguments/elements\n",
    "    ```js\n",
    "    const sum = (x, y, z) =>{\n",
    "        return x + y + z;\n",
    "    }\n",
    "\n",
    "    const array = [1,2,3];\n",
    "    console.log(sum(...array));\n",
    "    ```"
   ]
  },
  {
   "cell_type": "markdown",
   "metadata": {},
   "source": [
    "61. Copy properties from object to other with Object.assign (common properties get overwritten):\n",
    "    ```js\n",
    "    const target = {a:1, b:2};\n",
    "    const source = {b:3, c:4};\n",
    "\n",
    "    const returnedTarget = Object.assign(target,source);\n",
    "    console.log(target);//{ a: 1, b: 3, c: 4 }\n",
    "    ```"
   ]
  },
  {
   "cell_type": "markdown",
   "metadata": {},
   "source": [
    "62. Proxy object: to define custom behavior for fundamental operations such as property lookup, assignment, function invocation, etc.\n",
    "    ```js\n",
    "    var handler = {\n",
    "        get: function(obj, prop){\n",
    "            return prop in obj?obj[prop]:100;\n",
    "        }\n",
    "    }\n",
    "\n",
    "    var p = new Proxy({}, handler);\n",
    "    p.a = 10;\n",
    "    console.log(`p.a: ${p.a} p.b ${p.b}`);//p.a: 10 p.b 100\n",
    "    ```"
   ]
  },
  {
   "cell_type": "markdown",
   "metadata": {},
   "source": [
    "63. Object.seal()to prevent new properties from being added to it but the values can still be changed (with freeze you cannot add new properties nor change the values). "
   ]
  },
  {
   "cell_type": "markdown",
   "metadata": {},
   "source": [
    "64. Use Object.entries() to return an array of a given object's own enumerable string-keyed property [key, value] pairs. \n",
    "    ```js\n",
    "    const object = {\n",
    "        a: \"Good morning\",\n",
    "        b: 100\n",
    "    }\n",
    "\n",
    "    for(let [key, value] of Object.entries(object)){\n",
    "        console.log(`key: ${key} value: ${value}`);\n",
    "    }\n",
    "    /*key: a value: Good morning\n",
    "    key: b value: 100 */\n",
    "    ```"
   ]
  },
  {
   "cell_type": "markdown",
   "metadata": {},
   "source": [
    "65. Prototype example: create an object with prototype:\n",
    "    ```js\n",
    "    const user = {\n",
    "        name: 'Jonah',\n",
    "        printInfo: function(){\n",
    "            console.log(`My name is ${this.name}`);\n",
    "        }\n",
    "    }\n",
    "\n",
    "    const admin = Object.create(user);\n",
    "    admin.name = \"Nick\";\n",
    "    admin.printInfo();//My name is Nick\n",
    "    ```\n"
   ]
  },
  {
   "cell_type": "markdown",
   "metadata": {},
   "source": [
    "66. WeakSet: store collection of weakly held objects whereas Set references to objects are strong. Set can store any value and WeakSet only stores collections of objects. WeakSets are not iterable. \n",
    "    - “set of values” (without keys), where each value may occur only once. Use to remove duplicate values"
   ]
  },
  {
   "cell_type": "markdown",
   "metadata": {},
   "source": [
    "67. WeakMap is key/value paired in which the keys are weakly referenced. Map reference to key objects are strong. Maps can store any key type whereas weakmaps can store only collections of key objects. "
   ]
  },
  {
   "cell_type": "markdown",
   "metadata": {},
   "source": [
    "68. Anonymous functions don't have a name. They are commonly assigned to a variable name or used as a callback function.\n",
    "    ```js\n",
    "    const myFunction = function(){ //anonymous function\n",
    "        console.log('My function');\n",
    "    }\n",
    "\n",
    "    myFunction();\n",
    "\n",
    "    [1,2,3].map(function(element){ //anonymous function\n",
    "    console.log(element); \n",
    "    });\n",
    "    /*\n",
    "    My function\n",
    "    1\n",
    "    2\n",
    "    3\n",
    "    */\n",
    "    ```"
   ]
  },
  {
   "cell_type": "markdown",
   "metadata": {},
   "source": [
    "69. Local variables take precedence over global variables with the same name. "
   ]
  },
  {
   "cell_type": "markdown",
   "metadata": {},
   "source": [
    "70. Primitive data types: \n",
    "    - string\n",
    "    - number\n",
    "    - boolean\n",
    "    - null\n",
    "    - undefined\n",
    "    - bigint\n",
    "    - symbol"
   ]
  },
  {
   "cell_type": "markdown",
   "metadata": {},
   "source": [
    "71. Different ways to access object properties:\n",
    "    - dot notation:\n",
    "        ```js\n",
    "        objectName.property;\n",
    "        ```\n",
    "    - square brackets notation:\n",
    "        ```js\n",
    "        objectName[\"property\"];\n",
    "        ```\n",
    "    - Object destructuring:\n",
    "        ```js\n",
    "        const {property} = object;\n",
    "        ```\n",
    "        - Example:\n",
    "        ```js\n",
    "        objectName = {\n",
    "            property : 'Property name'\n",
    "        }\n",
    "\n",
    "        console.log(objectName.property); //'Property name'\n",
    "        console.log(objectName['property']); //'Property name'\n",
    "        const {property} = objectName;\n",
    "        console.log(property); //'Property name'\n",
    "        ```"
   ]
  },
  {
   "cell_type": "markdown",
   "metadata": {},
   "source": [
    "72. Various statements in errors handling: try, catch, throw (custom errors) and finally."
   ]
  },
  {
   "cell_type": "markdown",
   "metadata": {},
   "source": [
    "73. Intl = ECMAScript internationalization Api. It provides language sensitive string comparison, number formatting, etct."
   ]
  },
  {
   "cell_type": "markdown",
   "metadata": {},
   "source": [
    "74. Iterator object = defines a sequence and returns a value upon its termination. Implements the interator protocol with a next() method, which returns an object with two property values: next value in a sequence and done (bool)."
   ]
  },
  {
   "cell_type": "markdown",
   "metadata": {},
   "source": [
    "75. Synchronous iteration:\n",
    "    - Iterable: object that can be iterated over via a method whose key is Symbol iterator.\n",
    "    - Iterator is an object returned by invoking [Symbol.iterator]() on an iterable. It wraps each iterated element in an object and returns it via next() method one by one. \n",
    "        ```js\n",
    "        const iterable = ['one', 'two'];\n",
    "        const iterator = iterable[Symbol.iterator]();\n",
    "        console.log(iterator.next());//{ value: 'one', done: false }\n",
    "        console.log(iterator.next());//{ value: 'two', done: false }\n",
    "        console.log(iterator.next());//{ value: undefined, done: true }\n",
    "        ```"
   ]
  },
  {
   "cell_type": "markdown",
   "metadata": {},
   "source": [
    "76. Event loop: queue of callback functions. When an async function executes the callback function is posted into the queue. JS engine does not start processing the event loop until the async function is finished. "
   ]
  },
  {
   "cell_type": "markdown",
   "metadata": {},
   "source": [
    "77. Call stack: data structure for JS interpreters to keep track of function calls. \n",
    "    - When you call a function you are pushing to the stack.\n",
    "    - When execution is completed the function is popped out of the stack.\n",
    "        ```js\n",
    "        function hungry(){\n",
    "            console.log('I\\'m hungry');\n",
    "            eatFruit();\n",
    "        }\n",
    "\n",
    "        function eatFruit(){\n",
    "            console.log('I\\'m eating fruit');\n",
    "        }\n",
    "\n",
    "        hungry();\n",
    "        /*\n",
    "            I'm hungry\n",
    "            I'm eating fruit\n",
    "        */\n",
    "        /*\n",
    "          |CallStack| |CallStack | |CallStack| |CallStack|\n",
    "          -----------  ----------   ----------  ----------\n",
    "          | hungry()| |eatFruit()|  hungry() | |    -    |\n",
    "          |         | | hungry() |           | |         | \n",
    "        /*\n",
    "        ```"
   ]
  },
  {
   "cell_type": "markdown",
   "metadata": {},
   "source": [
    "78. Unary operator: converts a varaible to a number. It it cannot returns NaN."
   ]
  },
  {
   "cell_type": "markdown",
   "metadata": {},
   "source": [
    "79. sort array use sort() method. It receives a compare function:\n",
    "    ```js\n",
    "    let numbers = [1, 4, 5, 3, 2];\n",
    "    numbers.sort((a,b)=> a-b);\n",
    "    console.log(numbers);//[ 1, 2, 3, 4, 5 ]\n",
    "    ```"
   ]
  },
  {
   "cell_type": "markdown",
   "metadata": {},
   "source": [
    "80. You can use reverse method to reverse elements of an array."
   ]
  },
  {
   "cell_type": "markdown",
   "metadata": {},
   "source": [
    "81. Math.min and Math.max to find min and max elements within an array. \n",
    "    ```js\n",
    "    let numbers = [1, 4, 5, 3, 2];\n",
    "    console.log(Math.max(...numbers)); //5, if not a number in an array returns NaN\n",
    "    ```"
   ]
  },
  {
   "cell_type": "markdown",
   "metadata": {},
   "source": [
    "82. Comma operator evaluates each of its operands from left to right and returns the value of the last operand:\n",
    "    ```js\n",
    "    let x = 1;\n",
    "    x = (x, x+1);\n",
    "    console.log(x);//2\n",
    "    ```\n",
    "- It is also used to include multiple expressions in a location that requires a single expression. For example:\n",
    "    ```js\n",
    "    for(let a =0, b = 3; a <= 3; a++, b--)\n",
    "        console.log(`a: ${a} b: ${b}`)\n",
    "    /* a: 0 b: 3\n",
    "    a: 1 b: 2\n",
    "    a: 2 b: 1\n",
    "    a: 3 b: 0*/\n",
    "    ```"
   ]
  },
  {
   "cell_type": "markdown",
   "metadata": {},
   "source": [
    "83. Use the super keyword to call the constructor of a parent class."
   ]
  },
  {
   "cell_type": "markdown",
   "metadata": {},
   "source": [
    "84. Set prototype of one object to another object:\n",
    "    ```js\n",
    "    Object.setPrototype(Square.prototype, Rectangle.prototype);\n",
    "    ```"
   ]
  },
  {
   "cell_type": "markdown",
   "metadata": {},
   "source": [
    "85. Javascript does not provide enums but Typescript does."
   ]
  },
  {
   "cell_type": "markdown",
   "metadata": {},
   "source": [
    "86. To extend a class use the extends keyword. "
   ]
  },
  {
   "cell_type": "markdown",
   "metadata": {},
   "source": [
    "87. Use the includes method to determine if an array contains a particular value. "
   ]
  },
  {
   "cell_type": "markdown",
   "metadata": {},
   "source": [
    "88. To compare scalar arrays use .every method. \n",
    "    ```js\n",
    "    const arr1 = [\"apple\", \"bee\", \"cyan\"];\n",
    "    const arr2 = [\"apple\", \"bee\", \"cyan\"];\n",
    "\n",
    "    const compareArrays = (a, b) =>\n",
    "    a.length === b.length &&\n",
    "    a.every((element, index) => element === b[index]);\n",
    "    \n",
    "    console.log(`Array are equal: ${compareArrays(arr1, arr2)}`);\n",
    "    ```"
   ]
  },
  {
   "cell_type": "markdown",
   "metadata": {},
   "source": [
    "89. Javascript does not support namespaces but you can use IIFE or using a block and a let/const declaration:\n",
    "    1. IIFE: the outer pair of parentheses of IIFE creates a local scope for all the code inse the IIFE and makes the anonymous function a function expression. You can create the same function in two different function expressions to act as a namespace:\n",
    "        ```js\n",
    "        (function () {\n",
    "        function fun1() {\n",
    "            console.log(\"This is a first definition\");\n",
    "        }\n",
    "        fun1();\n",
    "        })();\n",
    "\n",
    "        (function () {\n",
    "        function fun1() {\n",
    "            console.log(\"This is a second definition\");\n",
    "        }\n",
    "        fun1();\n",
    "        })();\n",
    "        ```\n",
    "    2. Using a block and a let/const declaration to restrict the scope of a variable to a block:\n",
    "        ```js\n",
    "        {\n",
    "            let myFunction = function fun1() {\n",
    "                console.log(\"This is a first definition\");\n",
    "            };\n",
    "            myFunction();\n",
    "        }\n",
    "        //myFunction(): ReferenceError: myFunction is not defined.\n",
    "        ```"
   ]
  },
  {
   "cell_type": "markdown",
   "metadata": {},
   "source": [
    "90. Javascript is a dynamic language because variables are not associated with a value type, any variable can be assigned, reassigned with values of all types. "
   ]
  },
  {
   "cell_type": "markdown",
   "metadata": {},
   "source": [
    "91. String.raw() method is use to get the raw string form of a template string without processing escape sequences. F.e \\n\n",
    "    ```js\n",
    "    console.log(`Hello \\n world`);\n",
    "    console.log('---------------');\n",
    "    console.log(String.raw`Hello \\n world`);\n",
    "\n",
    "    /*\n",
    "    Hello \n",
    "    world\n",
    "    ---------------\n",
    "    Hello \\n world\n",
    "     */\n",
    "    ```"
   ]
  },
  {
   "cell_type": "markdown",
   "metadata": {},
   "source": [
    "92. You can use default values in destructuring assignment:\n",
    "    ```js\n",
    "    var x, y ,z;\n",
    "    [x = 2, y = 4, z = 6] = [10];\n",
    "    console.log(`x: ${x} y: ${y} z: ${z}`);//x: 10 y: 4 z: 6\n",
    "    ```\n"
   ]
  },
  {
   "cell_type": "markdown",
   "metadata": {},
   "source": [
    "91. Swap variables using destructuring assignment:\n",
    "    ```js\n",
    "    var x = 10, y = 20;\n",
    "    [x,y] = [y, x];\n",
    "    console.log(`x: ${x} y: ${y}`);//x: 20 y: 10\n",
    "    ```"
   ]
  },
  {
   "cell_type": "markdown",
   "metadata": {},
   "source": [
    "92. Enhanced object literals: shorthand syntax for initializing properties from variables, for defining methods and it also enables the ability to have computed property names in an object literal definition:\n",
    "    ```js\n",
    "        function getLaptopObjectLiteral(make, model, year) {\n",
    "        return {\n",
    "            make: make,\n",
    "            model: model,\n",
    "            year: year\n",
    "        }\n",
    "    }\n",
    "\n",
    "    console.log(getLaptopObjectLiteral(\"Apple\", \"MacBook\", \"2015\"));//{ make: 'Apple', model: 'MacBook', year: '2015' }\n",
    "\n",
    "    function getLaptonEnhancedObjectLiteral(make, model, year){\n",
    "        return{\n",
    "            make,\n",
    "            model,\n",
    "            year\n",
    "        }\n",
    "    }\n",
    "    console.log(getLaptonEnhancedObjectLiteral(\"Apple\", \"MacBook\", \"2015\"));//{ make: 'Apple', model: 'MacBook', year: '2015' }\n",
    "    ```"
   ]
  },
  {
   "cell_type": "markdown",
   "metadata": {},
   "source": [
    "93. dynamic imports to load modules on demand using promises. Useful to reduce bundle sizes:\n",
    "    ```js\n",
    "    import(\"./Module\").then((Module)=> Module.method());\n",
    "    //or\n",
    "    let {hi, bye} = await import('./say.js'); //hi() and bye() methods are defined in say.js\n",
    "\n",
    "    hi();\n",
    "    bye();\n",
    "    ```"
   ]
  },
  {
   "cell_type": "markdown",
   "metadata": {},
   "source": [
    "94. for...of statement creates a loop iterating over iterable objects or elements such as built-in String, array\n",
    "    ```js\n",
    "    let hello = \"HELLO\";\n",
    "    for(let value of hello)\n",
    "        console.log(value);\n",
    "        /* H\n",
    "           E... */\n",
    "    ```"
   ]
  },
  {
   "cell_type": "markdown",
   "metadata": {},
   "source": [
    "95. Spread operator example with strings: since string is an iterable type and spread operator maps each caracther of an iterable to one element:\n",
    "    ```js\n",
    "    console.log([...\"John Wick\"]);\n",
    "    /*\n",
    "    [\n",
    "        'J', 'o', 'h',\n",
    "        'n', ' ', 'W',\n",
    "        'i', 'c', 'k'\n",
    "    ]\n",
    "    */\n",
    "    ```\n"
   ]
  },
  {
   "cell_type": "markdown",
   "metadata": {},
   "source": [
    "96. internal js source code within script tags and external js is stored in an external js file. "
   ]
  },
  {
   "cell_type": "markdown",
   "metadata": {},
   "source": [
    "97. Arraybuffer represents a generic fixed-length raw binary data-buffer. "
   ]
  },
  {
   "cell_type": "markdown",
   "metadata": {},
   "source": [
    "98. Parameter: variable name of a function definition whereas an argument represents the value given to a function when it is invoked."
   ]
  },
  {
   "cell_type": "markdown",
   "metadata": {},
   "source": [
    "99. some() method to test whether at least one element of the array passes the test implemented by the provided function. "
   ]
  },
  {
   "cell_type": "markdown",
   "metadata": {},
   "source": [
    "100. concat() to combine two or more arrays. "
   ]
  },
  {
   "cell_type": "markdown",
   "metadata": {},
   "source": [
    "101. shallow copy: bitwise copy of an object (reference copy) if you change the copy it changes the original.\n",
    "Deep copy: copy all the fields and makes copies of dinamically allocated memory pointed to by the fields."
   ]
  },
  {
   "cell_type": "markdown",
   "metadata": {},
   "source": [
    "102. repeat() method to make specific number of copies of a string:\n",
    "```js\n",
    "    const laugh = 'HA'.repeat(3);\n",
    "    console.log(laugh);//HAHAHA\n",
    "```"
   ]
  },
  {
   "cell_type": "markdown",
   "metadata": {},
   "source": [
    "103. matchAll() method to return all matching strings against a regex;\n",
    "```js\n",
    "    const example = 'degghiabcjklmnopq';\n",
    "    const list = [...example.matchAll('[abc]')];\n",
    "    console.log(list);\n",
    "    /* [\n",
    "        [ 'a', index: 6, input: 'degghiabcjklmnopq', groups: undefined ],\n",
    "        [ 'b', index: 7, input: 'degghiabcjklmnopq', groups: undefined ],\n",
    "        [ 'c', index: 8, input: 'degghiabcjklmnopq', groups: undefined ]\n",
    "    ]*/\n",
    "```"
   ]
  },
  {
   "cell_type": "markdown",
   "metadata": {},
   "source": [
    "104. trimStart/trimLeft and trimEnd / trimRight"
   ]
  },
  {
   "cell_type": "markdown",
   "metadata": {},
   "source": [
    "105. mixin class contains methods that can be used by other classes without a need to inherit from them. \n",
    "```js\n",
    "    let cleanRoomMixin = {\n",
    "        cleanRoom(){\n",
    "            console.log(`Hello ${this.name}, your room is clean now`);\n",
    "        }\n",
    "    }\n",
    "\n",
    "    class User{\n",
    "        constructor(name){\n",
    "            this.name = name;\n",
    "        }\n",
    "    }\n",
    "\n",
    "    Object.assign(User.prototype, cleanRoomMixin);\n",
    "    new User('D').cleanRoom(); //Hello D, your room is clean now\n",
    "```"
   ]
  },
  {
   "cell_type": "markdown",
   "metadata": {},
   "source": [
    "106. thunk() is a function which delays the evaluation of the value. Async thunks are useful to make network request. Best example is the redux state management which uses the async thunks to delay the action to dispatch. "
   ]
  },
  {
   "cell_type": "markdown",
   "metadata": {},
   "source": [
    "107. Scope: diameter is a regular function and perimeter is an arrow function. The this keyword of diameter() is the sorrounding scope which is a class (f.e Shape object), whereas the .this in perimeters is the window object, which has no radius property. \n",
    "```js\n",
    "    const circle = {\n",
    "        radius: 20,\n",
    "        diameter(){\n",
    "            return this.radius *2\n",
    "        },\n",
    "        perimeter: () => 2*Math.PI * this.radius\n",
    "    }\n",
    "\n",
    "    console.log(circle.diameter());//40\n",
    "    console.log(circle.perimeter());//Nan because it doesnt have access to radius variable\n",
    "```"
   ]
  },
  {
   "cell_type": "markdown",
   "metadata": {},
   "source": [
    "108. Negating an array returns false (since arrays are truthy).\n",
    "```js\n",
    "    console.log(![]);//false\n",
    "```"
   ]
  },
  {
   "cell_type": "markdown",
   "metadata": {},
   "source": [
    "109. Remove falsy values from an array using filter boolean:\n",
    "```js\n",
    "    const array = [true, undefined, 5, null, 'pineapple', false];\n",
    "    console.log(array.filter(Boolean));//[ true, 5, 'pineapple' ]\n",
    "```"
   ]
  },
  {
   "cell_type": "markdown",
   "metadata": {},
   "source": [
    "110. Destructuring aliases:\n",
    "```js\n",
    "    const obj = {x:5};\n",
    "    const {x: otherName} = obj;\n",
    "    console.log(otherName);//5\n",
    "```"
   ]
  },
  {
   "cell_type": "markdown",
   "metadata": {},
   "source": [
    "111. You can empty an array by setting its length to zero."
   ]
  },
  {
   "cell_type": "markdown",
   "metadata": {},
   "source": [
    "112. Use toFixed() to round numbers to a certain decimals:\n",
    "```js\n",
    "    const number = 13.5678;\n",
    "    console.log(number.toFixed(2));//13.57\n",
    "```"
   ]
  },
  {
   "cell_type": "markdown",
   "metadata": {},
   "source": [
    "113. Convert array to an object with spread operator:\n",
    "\n",
    "```js\n",
    "    const array = [1, 3, 5, 7];\n",
    "    console.log({...array});//{ '0': 1, '1': 3, '2': 5, '3': 7 }\n",
    "```\n"
   ]
  },
  {
   "cell_type": "markdown",
   "metadata": {},
   "source": [
    "114. You can add CSS to the console messages with %C\n",
    "```js\n",
    "    console.log(\"%cBlue! other\", \"color: blue;\"); //shows all the text in blue in the console.\n",
    "```"
   ]
  },
  {
   "cell_type": "markdown",
   "metadata": {},
   "source": [
    "115. Use console.table() to display data in a tabular format."
   ]
  },
  {
   "cell_type": "markdown",
   "metadata": {},
   "source": [
    "116. Multiple conditions checking shortcut:\n",
    "```js\n",
    "    //Verbose traditional approach\n",
    "    const input = \"first\";\n",
    "    if(input === \"first\" || input === 1 || input === \"second\" || input === 2)\n",
    "        console.log('Valid input');\n",
    "\n",
    "    //Shortcut\n",
    "    if(['first', 1, 'second', 2].indexOf(input) !== -1)\n",
    "        console.log('Valid input');\n",
    "```"
   ]
  },
  {
   "cell_type": "markdown",
   "metadata": {},
   "source": [
    "117. In Typescript you declare custom libraries as :any type. "
   ]
  },
  {
   "cell_type": "markdown",
   "metadata": {},
   "source": [
    "118. Different ways to handle asynchronous code:\n",
    "    1. Callback functions (risk of callback hell).\n",
    "    2. Promises\n",
    "    3. Async / await approach\n",
    "    4. Third-party libraries (async.js)\n"
   ]
  },
  {
   "cell_type": "markdown",
   "metadata": {},
   "source": [
    "119. Promises vs Observables:\n",
    "\n",
    "| Promise      | Observable |\n",
    "| ----------- | ----------- |\n",
    "| Emits only a sngle value at a time| Emits multiple values over a period of time|\n",
    "| Eager in nature (called immediately)| Lazy in nature (require subscription to be invoked)|\n",
    "| Promise is async| Observable can be sync or async |\n",
    "| Doesn't provide operators| Provides operators (map, foreach)|\n",
    "| Cannot be canceled| Canceled via unsubscribe method|\n",
    "\n",
    "```js\n",
    "/*Promise: */\n",
    "const welcomePromise = new Promise(resolve => {\n",
    "  console.log(\"In Promise executor fn\");\n",
    "\n",
    "  resolve(\"Welcome!\");\n",
    "});\n",
    "\n",
    "console.log(\"Before calling the then method\");\n",
    "\n",
    "welcomePromise.then(console.log);\n",
    "\n",
    "// In Promise executor fn\n",
    "// Before calling the then method\n",
    "// Welcome!\n",
    "\n",
    "/*Observable: */\n",
    "import { Observable } from \"rxjs\";\n",
    "\n",
    "const welcomeObservable$ = new Observable(observer => {\n",
    "  console.log(\"In Observable producer fn\");\n",
    "\n",
    "  observer.next(\"Welcome!\");\n",
    "  observer.complete();\n",
    "});\n",
    "\n",
    "console.log(\"Before calling the subscribe method\");\n",
    "\n",
    "welcomeObservable$.subscribe(console.log);\n",
    "\n",
    "// Before calling the subscribe method\n",
    "// In Observable producer fn\n",
    "// Welcome!\n",
    "```"
   ]
  },
  {
   "cell_type": "markdown",
   "metadata": {},
   "source": [
    "120. Heap: memory location where objects are stored when we define variables."
   ]
  },
  {
   "cell_type": "markdown",
   "metadata": {},
   "source": [
    "121. babel is a javascript transpiler to convert ECMAScript 2015+ into backwards compatible version of javascript in current and older browsers or environments. "
   ]
  },
  {
   "cell_type": "markdown",
   "metadata": {},
   "source": [
    "122. Short-circuit condition: condensed way to write simple if statements:\n",
    "```js\n",
    "if(authenticate)\n",
    "    loginToPortal();\n",
    "\n",
    "//instead use:\n",
    "authenticate && loginToPortal();\n",
    "```"
   ]
  },
  {
   "cell_type": "markdown",
   "metadata": {},
   "source": [
    "123. Observable is a function that can return a stream of values synchronously or asynchronously to an observer over time. The consumer can get the value by calling subscribe() method/"
   ]
  },
  {
   "cell_type": "markdown",
   "metadata": {},
   "source": [
    "124. Difference between class declarations and function declarations is hoisting. Classes are not moved to the top so this throws an error:\n",
    "```js\n",
    "    const user = new User(); //ReferenceError: Cannot access 'User' before initialization\n",
    "\n",
    "    class User{} \n",
    "```"
   ]
  },
  {
   "cell_type": "markdown",
   "metadata": {},
   "source": [
    "125. Rest parameter vs spread operator. Rest parameter collects all the remaining elements into an array. Spread operator allows iterables to be expanded into single arguments/elements. Rest parameter is the oposite of spread operator:\n",
    "```js\n",
    "    const array1 = ['a', 'b', 'c'];\n",
    "    const func1 = (a, b, c) => {\n",
    "        console.log(`${a} ${b} ${c}`);\n",
    "    }\n",
    "\n",
    "    func1(...array1);//a b c\n",
    "    //Rest parameter\n",
    "    const func2 = (...elements)=>{\n",
    "        let total = 0;\n",
    "        for(const el of elements){\n",
    "            total += el;\n",
    "        }\n",
    "        return total;\n",
    "    }\n",
    "    console.log(func2(1,2,3)); //6\n",
    "    console.log(func2(1,2,3,4)); //10\n",
    "```\n"
   ]
  },
  {
   "cell_type": "markdown",
   "metadata": {},
   "source": [
    "126. for...in iterates over all enumerable property keys of an object. for ...of iterates over all the values of an iterable object.\n",
    "```js\n",
    "const array1 = ['a', 'b', 'c'];\n",
    "for(val of array1)\n",
    "    console.log(val);\n",
    "\n",
    "for(key in array1)\n",
    "    console.log(array1[key]);\n",
    "```"
   ]
  },
  {
   "cell_type": "markdown",
   "metadata": {},
   "source": [
    "127. Nullish coalescing operator (??) returns the right-hand side operand when its left-hand operant is null or undefined;\n",
    "```js\n",
    "    const val = null;\n",
    "    console.log(val ?? 1);\n",
    "```"
   ]
  },
  {
   "cell_type": "markdown",
   "metadata": {},
   "source": [
    "128. reverse() method reverses the array tut it mutates it. To prevent mutations use slice() + revers().\n",
    "```js\n",
    "    const originalArray = ['a', 'b', 'c'];\n",
    "    let newArray = originalArray.slice().reverse();\n",
    "\n",
    "    console.log(newArray);//[ 'c', 'b', 'a' ]\n",
    "    console.log(originalArray);//[ 'a', 'b', 'c' ]\n",
    "\n",
    "    //or use spread operator:\n",
    "    console.log([...originalArray].reverse());//[ 'c', 'b', 'a' ]\n",
    "    console.log(originalArray);//[ 'a', 'b', 'c' ]\n",
    "```"
   ]
  },
  {
   "cell_type": "markdown",
   "metadata": {},
   "source": [
    "129. global execution context: default or first execution context that is created by JS engine before any code is executed. All the global codad that is not inside a function or object will be executed inside the global execution context. "
   ]
  },
  {
   "cell_type": "markdown",
   "metadata": {},
   "source": [
    "130. When a function is invoked it creates the function execution context. "
   ]
  },
  {
   "cell_type": "markdown",
   "metadata": {},
   "source": [
    "131. Debouncing delays execution of some piece of code until a specified tome to avoid unnecesary CPU cycles. Deboucing function to ensure your code is only triggered once per user input (for example a search box suggestions field)."
   ]
  },
  {
   "cell_type": "markdown",
   "metadata": {},
   "source": [
    "132. Throttling limit the execution of an event handler function even when this event is triggered continuously due to user actions. Use an inThrottle flag and update after certain amount of time:\n",
    "```js\n",
    "var  timerId;\n",
    "var  divBodyDom  =  document.getElementById('div-body');\n",
    "\n",
    "// This represents a very heavy method which takes a lot of time to execute\n",
    "function  makeAPICall() {\n",
    "\tvar  debounceDom  =  document.getElementById('debounc-count');\n",
    "\tvar  debounceCount  =  debounceDom.innerHTML  ||  0;\n",
    "\n",
    "\tdebounceDom.innerHTML  =  parseInt(debounceCount) +  1\n",
    "}\n",
    "\n",
    "// Throttle function: Input as function which needs to be throttled and delay is the time interval in milliseconds\n",
    "var  throttleFunction  =  function (func, delay) {\n",
    "\t// If setTimeout is already scheduled, no need to do anything\n",
    "\tif (timerId) {\n",
    "\t\treturn\n",
    "\t}\n",
    "\n",
    "\t// Schedule a setTimeout after delay seconds\n",
    "\ttimerId  =  setTimeout(function () {\n",
    "\t\tfunc()\n",
    "\t\t\n",
    "\t\t// Once setTimeout function execution is finished, timerId = undefined so that in <br>\n",
    "\t\t// the next scroll event function execution can be scheduled by the setTimeout\n",
    "\t\ttimerId  =  undefined;\n",
    "\t}, delay)\n",
    "}\n",
    "\n",
    "// Event listener on the input box\n",
    "divBodyDom.addEventListener('scroll', function () {\n",
    "\tvar  apiCallCountDom  =  document.getElementById('show-api-call-count');\n",
    "\tvar  apiCallCount  =  apiCallCountDom.innerHTML  ||  0;\n",
    "\tapiCallCount  =  parseInt(apiCallCount) +  1;\n",
    "\n",
    "\t// Updates the number of times makeAPICall method is called\n",
    "\tapiCallCountDom.innerHTML  =  apiCallCount;\n",
    "\n",
    "\t// Throttles makeAPICall method such that it is called once in every 200 milliseconds\n",
    "\tthrottleFunction(makeAPICall, 200)\n",
    "})\n",
    "```\n"
   ]
  },
  {
   "cell_type": "markdown",
   "metadata": {},
   "source": [
    "133. Optional chaining (?.) reading the value of a property located deep within a chain of connected objects without expressly validationg that each reference in the chain es valid. \n",
    "```js\n",
    "const adventurer = {\n",
    "  name: 'Alice',\n",
    "  cat: {\n",
    "    name: 'Dinah'\n",
    "  }\n",
    "};\n",
    "const dogName = adventurer.dog?.name;\n",
    "console.log(dogName);//undefined\n",
    "```"
   ]
  },
  {
   "cell_type": "markdown",
   "metadata": {},
   "source": [
    "134. Use isArray() to verify if something is an array. \n",
    "```js\n",
    "const array1 = [1, 2, 3];\n",
    "const object1 = {\n",
    "    name: 'Object'\n",
    "}\n",
    "\n",
    "console.log(Array.isArray(array1));//true\n",
    "console.log(Array.isArray(object1));//false\n",
    "```"
   ]
  },
  {
   "cell_type": "markdown",
   "metadata": {},
   "source": [
    "135. What is lexical scoping? The set of bindings visible inside a block is determined by the place of that block in the program text. Each local scope can also see all the local scopes that contain it, and all scopes can see the global scope. This approach to bindings visibility is called lexical scoping."
   ]
  },
  {
   "cell_type": "markdown",
   "metadata": {},
   "source": [
    "136. Closures: A feature that let us reference a specific instance of a local binding in an enclosing scope. A function that references bindings from local scopes around it is called a closure. \n",
    "- Note: Binding to a function is a way of declaratively connecting another resource to the function.\n",
    "- Function values contain both the code in their body and the environment in which they are created. When called the function sees the environment in which it was created, not the environment in which it is called. \n",
    "- Example to create new functions that multiply by arbitrary amount:\n",
    "    ```js\n",
    "    function multiplier(factor){\n",
    "        return number => number * factor;\n",
    "    }\n",
    "\n",
    "    let twice = multiplier(2); //new function\n",
    "    console.log(twice(5)); //10\n",
    "    /*let thrice = multiplier(3);\n",
    "    console.log(thrice(5)) //15*/\n",
    "    ```\n",
    "    - multiplier is called and creates an environment in which its factor parameter is bound to 2. The function value it returns, which is stored in twice remembers this environment. So when that it is called multiplies its argument by 2. "
   ]
  }
 ],
 "metadata": {
  "kernelspec": {
   "display_name": "Python 3.9.6 64-bit",
   "language": "python",
   "name": "python3"
  },
  "language_info": {
   "name": "python",
   "version": "3.9.6"
  },
  "orig_nbformat": 4,
  "vscode": {
   "interpreter": {
    "hash": "31f2aee4e71d21fbe5cf8b01ff0e069b9275f58929596ceb00d14d90e3e16cd6"
   }
  }
 },
 "nbformat": 4,
 "nbformat_minor": 2
}
